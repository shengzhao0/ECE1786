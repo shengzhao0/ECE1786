{
 "cells": [
  {
   "cell_type": "markdown",
   "metadata": {},
   "source": [
    "# Experimenting and Understanding Word Embedding/Vectors\n",
    "# Using the GloVe Embeddings\n",
    "\n",
    "\n",
    "Word embeddings (also known as word vectors) are a way to encode the meaning of words into a set of numbers.\n",
    "\n",
    "These embeddings are created by training a neural network model using many examples of the use of language.  These examples could be the whole of Wikipedia or a large collection of news articles. \n",
    "\n",
    "To start, we will explore a set of word embeddings that someone else took the time and computational power to create. One of the most commonly-used pre-trained word embeddings are the **GloVe embeddings**."
   ]
  },
  {
   "cell_type": "markdown",
   "metadata": {},
   "source": [
    "## GloVe Embeddings\n",
    "\n",
    "You can read about the GloVe embeddings here: https://nlp.stanford.edu/projects/glove/, and read the original paper describing how they work here: https://nlp.stanford.edu/pubs/glove.pdf.\n",
    "\n",
    "There are several variations of GloVe embeddings. They differ in the text used to train the embedding, and the *size* of the embeddings.\n",
    "\n",
    "Throughout this course we'll use a package called `torchtext`, that is part of PyTorch, that we will be using in most assignments and your project.\n",
    "\n",
    "We'll begin by loading a set of GloVe embeddings. The first time you run the code below, it will cause the download a large file (862MB) containing the embeddings."
   ]
  },
  {
   "cell_type": "code",
   "execution_count": 2,
   "metadata": {},
   "outputs": [],
   "source": [
    "import torch\n",
    "import torchtext\n",
    "\n",
    "# The first time you run this will download a ~823MB file\n",
    "glove = torchtext.vocab.GloVe(name=\"6B\", # trained on Wikipedia 2014 corpus\n",
    "                              dim=50)    # embedding size = 50"
   ]
  },
  {
   "cell_type": "code",
   "execution_count": 3,
   "metadata": {},
   "outputs": [],
   "source": [
    "glove1 = torchtext.vocab.GloVe(name=\"6B\", # trained on Wikipedia 2014 corpus\n",
    "                              dim=300)    # embedding size = 50"
   ]
  },
  {
   "cell_type": "code",
   "execution_count": 4,
   "metadata": {},
   "outputs": [],
   "source": [
    "import torch\n",
    "import torchtext\n",
    "\n",
    "# The first time you run this will download a ~823MB file\n",
    "glove3 = torchtext.vocab.FastText()    # embedding size = 50"
   ]
  },
  {
   "cell_type": "markdown",
   "metadata": {},
   "source": [
    "First, let's look at what the embedding of the word \"apple\" looks like:"
   ]
  },
  {
   "cell_type": "code",
   "execution_count": 3,
   "metadata": {},
   "outputs": [
    {
     "data": {
      "text/plain": [
       "tensor([ 0.5204, -0.8314,  0.4996,  1.2893,  0.1151,  0.0575, -1.3753, -0.9731,\n",
       "         0.1835,  0.4767, -0.1511,  0.3553,  0.2591, -0.7786,  0.5218,  0.4769,\n",
       "        -1.4251,  0.8580,  0.5982, -1.0903,  0.3357, -0.6089,  0.4174,  0.2157,\n",
       "        -0.0742, -0.5822, -0.4502,  0.1725,  0.1645, -0.3841,  2.3283, -0.6668,\n",
       "        -0.5818,  0.7439,  0.0950, -0.4787, -0.8459,  0.3870,  0.2369, -1.5523,\n",
       "         0.6480, -0.1652, -1.4719, -0.1622,  0.7986,  0.9739,  0.4003, -0.2191,\n",
       "        -0.3094,  0.2658])"
      ]
     },
     "execution_count": 3,
     "metadata": {},
     "output_type": "execute_result"
    }
   ],
   "source": [
    "glove['apple']"
   ]
  },
  {
   "cell_type": "markdown",
   "metadata": {},
   "source": [
    "You can see that it is a torch tensor with dimension `(50,)`. We don't know what the meaning of each number is, but we do know that there are properties of the embeddings that can be observed.  For example, `distances between embeddings` are meaningful.\n",
    "\n",
    "## Measuring Distance\n",
    "\n",
    "Let's consider one specific metric of distance between two embedding vectors called the **Euclidean distance**. The Euclidean distance of two vectors $x = [x_1, x_2, ... x_n]$ and\n",
    "$y = [y_1, y_2, ... y_n]$ is just the 2-norm of their difference $x - y$. We can compute\n",
    "the Euclidean distance between $x$ and $y$: $\\sqrt{\\sum_i (x_i - y_i)^2}$\n",
    "\n",
    "The PyTorch function `torch.norm` computes the 2-norm of a vector for us, so we \n",
    "can compute the Euclidean distance between two vectors like this:"
   ]
  },
  {
   "cell_type": "code",
   "execution_count": 3,
   "metadata": {},
   "outputs": [
    {
     "data": {
      "text/plain": [
       "tensor(1.8846)"
      ]
     },
     "execution_count": 3,
     "metadata": {},
     "output_type": "execute_result"
    }
   ],
   "source": [
    "x = glove['cat']\n",
    "y = glove['dog']\n",
    "torch.norm(y - x)"
   ]
  },
  {
   "cell_type": "code",
   "execution_count": 4,
   "metadata": {},
   "outputs": [
    {
     "data": {
      "text/plain": [
       "tensor(4.9094)"
      ]
     },
     "execution_count": 4,
     "metadata": {},
     "output_type": "execute_result"
    }
   ],
   "source": [
    "a = glove['apple']\n",
    "b = glove['orange']\n",
    "torch.norm(b - a)"
   ]
  },
  {
   "cell_type": "code",
   "execution_count": 5,
   "metadata": {},
   "outputs": [
    {
     "data": {
      "text/plain": [
       "tensor(3.3189)"
      ]
     },
     "execution_count": 5,
     "metadata": {},
     "output_type": "execute_result"
    }
   ],
   "source": [
    "torch.norm(glove['good'] - glove['bad'])"
   ]
  },
  {
   "cell_type": "code",
   "execution_count": 66,
   "metadata": {},
   "outputs": [
    {
     "data": {
      "text/plain": [
       "tensor(4.8563)"
      ]
     },
     "execution_count": 66,
     "metadata": {},
     "output_type": "execute_result"
    }
   ],
   "source": [
    "torch.norm(glove1['good'] - glove1['bad'])"
   ]
  },
  {
   "cell_type": "code",
   "execution_count": 6,
   "metadata": {},
   "outputs": [
    {
     "data": {
      "text/plain": [
       "tensor(5.3390)"
      ]
     },
     "execution_count": 6,
     "metadata": {},
     "output_type": "execute_result"
    }
   ],
   "source": [
    "torch.norm(glove['good'] - glove['water'])"
   ]
  },
  {
   "cell_type": "code",
   "execution_count": 7,
   "metadata": {},
   "outputs": [
    {
     "data": {
      "text/plain": [
       "tensor(2.7703)"
      ]
     },
     "execution_count": 7,
     "metadata": {},
     "output_type": "execute_result"
    }
   ],
   "source": [
    "torch.norm(glove['good'] - glove['well'])"
   ]
  },
  {
   "cell_type": "code",
   "execution_count": 8,
   "metadata": {},
   "outputs": [
    {
     "data": {
      "text/plain": [
       "tensor(2.8834)"
      ]
     },
     "execution_count": 8,
     "metadata": {},
     "output_type": "execute_result"
    }
   ],
   "source": [
    "torch.norm(glove['good'] - glove['perfect'])"
   ]
  },
  {
   "cell_type": "markdown",
   "metadata": {},
   "source": [
    "## Cosine Similarity\n",
    "\n",
    "An alternative and more commonly-sued measure of distance is the **Cosine Similarity**. The cosine similarity measures the *angle* between two vectors, and has the property that it only considers the *direction* of the vectors, not their the magnitudes. It is computed as follows for two vectors A and B:\n",
    "<img src=\"cosine_sim.png\" width=\"50%\" align = \"middle\">"
   ]
  },
  {
   "cell_type": "code",
   "execution_count": 20,
   "metadata": {},
   "outputs": [
    {
     "data": {
      "text/plain": [
       "tensor([1.0000])"
      ]
     },
     "execution_count": 20,
     "metadata": {},
     "output_type": "execute_result"
    }
   ],
   "source": [
    "x = torch.tensor([1., 1., 1.]).unsqueeze(0) # cosine similarity wants at least 2-D inputs\n",
    "y = torch.tensor([2., 2., 2.]).unsqueeze(0)\n",
    "torch.cosine_similarity(x, y) # should be one because x and y point in the same \"direction\""
   ]
  },
  {
   "cell_type": "markdown",
   "metadata": {},
   "source": [
    "The cosine similarity is actually a *similarity* measure rather than a *distance* measure, and gives a result between -1 and 1. Thus, the larger the similarity, (closer to 1) the \"closer in meaning\" the word embeddings are to each other."
   ]
  },
  {
   "cell_type": "code",
   "execution_count": 21,
   "metadata": {},
   "outputs": [
    {
     "data": {
      "text/plain": [
       "tensor([-1.0000])"
      ]
     },
     "execution_count": 21,
     "metadata": {},
     "output_type": "execute_result"
    }
   ],
   "source": [
    "z = torch.tensor([-1., -1., -1.]).unsqueeze(0)\n",
    "torch.cosine_similarity(x, z) # should be -1 because x and y point in the opposite \"direction\""
   ]
  },
  {
   "cell_type": "code",
   "execution_count": 22,
   "metadata": {},
   "outputs": [
    {
     "data": {
      "text/plain": [
       "tensor([0.9218])"
      ]
     },
     "execution_count": 22,
     "metadata": {},
     "output_type": "execute_result"
    }
   ],
   "source": [
    "x = glove['cat']\n",
    "y = glove['dog']\n",
    "torch.cosine_similarity(x.unsqueeze(0), y.unsqueeze(0))"
   ]
  },
  {
   "cell_type": "code",
   "execution_count": 75,
   "metadata": {},
   "outputs": [
    {
     "data": {
      "text/plain": [
       "tensor([0.6817])"
      ]
     },
     "execution_count": 75,
     "metadata": {},
     "output_type": "execute_result"
    }
   ],
   "source": [
    "x = glove1['cat']\n",
    "y = glove1['dog']\n",
    "torch.cosine_similarity(x.unsqueeze(0), y.unsqueeze(0))"
   ]
  },
  {
   "cell_type": "code",
   "execution_count": 23,
   "metadata": {},
   "outputs": [
    {
     "data": {
      "text/plain": [
       "tensor([0.5608])"
      ]
     },
     "execution_count": 23,
     "metadata": {},
     "output_type": "execute_result"
    }
   ],
   "source": [
    "a = glove['apple']\n",
    "b = glove['banana']\n",
    "torch.cosine_similarity(a.unsqueeze(0), b.unsqueeze(0))"
   ]
  },
  {
   "cell_type": "code",
   "execution_count": 71,
   "metadata": {},
   "outputs": [
    {
     "data": {
      "text/plain": [
       "tensor([0.3924])"
      ]
     },
     "execution_count": 71,
     "metadata": {},
     "output_type": "execute_result"
    }
   ],
   "source": [
    "a = glove1['apple']\n",
    "b = glove1['banana']\n",
    "torch.cosine_similarity(a.unsqueeze(0), b.unsqueeze(0))"
   ]
  },
  {
   "cell_type": "code",
   "execution_count": 24,
   "metadata": {},
   "outputs": [
    {
     "data": {
      "text/plain": [
       "tensor([0.7965])"
      ]
     },
     "execution_count": 24,
     "metadata": {},
     "output_type": "execute_result"
    }
   ],
   "source": [
    "torch.cosine_similarity(glove['good'].unsqueeze(0), \n",
    "                        glove['bad'].unsqueeze(0))"
   ]
  },
  {
   "cell_type": "code",
   "execution_count": 67,
   "metadata": {},
   "outputs": [
    {
     "data": {
      "text/plain": [
       "tensor([0.6445])"
      ]
     },
     "execution_count": 67,
     "metadata": {},
     "output_type": "execute_result"
    }
   ],
   "source": [
    "torch.cosine_similarity(glove1['good'].unsqueeze(0), \n",
    "                        glove1['bad'].unsqueeze(0))"
   ]
  },
  {
   "cell_type": "code",
   "execution_count": 74,
   "metadata": {},
   "outputs": [
    {
     "data": {
      "text/plain": [
       "tensor([0.8511])"
      ]
     },
     "execution_count": 74,
     "metadata": {},
     "output_type": "execute_result"
    }
   ],
   "source": [
    "torch.cosine_similarity(glove['good'].unsqueeze(0), \n",
    "                        glove['well'].unsqueeze(0))"
   ]
  },
  {
   "cell_type": "code",
   "execution_count": 72,
   "metadata": {},
   "outputs": [
    {
     "data": {
      "text/plain": [
       "tensor([0.8376])"
      ]
     },
     "execution_count": 72,
     "metadata": {},
     "output_type": "execute_result"
    }
   ],
   "source": [
    "torch.cosine_similarity(glove['good'].unsqueeze(0), \n",
    "                        glove['perfect'].unsqueeze(0))"
   ]
  },
  {
   "cell_type": "markdown",
   "metadata": {},
   "source": [
    "Note: torch.cosine_similarity requires two dimensions to work, which is created with the unsqueeze option, illustrated in more detail below"
   ]
  },
  {
   "cell_type": "code",
   "execution_count": 27,
   "metadata": {},
   "outputs": [
    {
     "name": "stdout",
     "output_type": "stream",
     "text": [
      "torch.Size([50])\n",
      "torch.Size([1, 50])\n"
     ]
    }
   ],
   "source": [
    "x = glove['good']\n",
    "print(x.shape) # [50]\n",
    "y = x.unsqueeze(0) # [1, 50]\n",
    "print(y.shape)"
   ]
  },
  {
   "cell_type": "markdown",
   "metadata": {},
   "source": [
    "## Word Similarity\n",
    "\n",
    "Now that we have notions of distance and similarity in our embedding space, we can talk about words that are \"close\" to each other in the embedding space. For now, let's use Euclidean distances to look at how close various words are to the word \"cat\"."
   ]
  },
  {
   "cell_type": "code",
   "execution_count": 5,
   "metadata": {
    "scrolled": true
   },
   "outputs": [
    {
     "name": "stdout",
     "output_type": "stream",
     "text": [
      "pet \t 3.04\n",
      "dog \t 1.88\n",
      "bike \t 5.05\n",
      "kitten \t 3.51\n",
      "puppy \t 3.06\n",
      "kite \t 4.21\n",
      "computer \t 6.03\n",
      "neuron \t 6.23\n"
     ]
    }
   ],
   "source": [
    "word = 'cat'\n",
    "other = ['pet', 'dog', 'bike', 'kitten', 'puppy', 'kite', 'computer', 'neuron']\n",
    "for w in other:\n",
    "    dist = torch.norm(glove[word] - glove[w]) # euclidean distance\n",
    "    print(w, \"\\t%5.2f\" % float(dist))"
   ]
  },
  {
   "cell_type": "markdown",
   "metadata": {},
   "source": [
    "Let's do the same thing with cosine similarity:"
   ]
  },
  {
   "cell_type": "code",
   "execution_count": 6,
   "metadata": {},
   "outputs": [
    {
     "name": "stdout",
     "output_type": "stream",
     "text": [
      "pet \t 0.78\n",
      "dog \t 0.92\n",
      "bike \t 0.44\n",
      "kitten \t 0.64\n",
      "puppy \t 0.76\n",
      "kite \t 0.49\n",
      "computer \t 0.35\n",
      "neuron \t 0.21\n"
     ]
    }
   ],
   "source": [
    "word = 'cat'\n",
    "other = ['pet', 'dog', 'bike', 'kitten', 'puppy', 'kite', 'computer', 'neuron']\n",
    "for w in other:\n",
    "    dist = torch.cosine_similarity(glove[word].unsqueeze(0),glove[w].unsqueeze(0)) # cosine distance\n",
    "    print(w, \"\\t%5.2f\" % float(dist))"
   ]
  },
  {
   "cell_type": "markdown",
   "metadata": {},
   "source": [
    "We can look through the entire **vocabulary** for words that are closest to a point in the embedding space -- for example, we can look for words that are closest to another word such as \"cat\"."
   ]
  },
  {
   "cell_type": "code",
   "execution_count": 5,
   "metadata": {},
   "outputs": [
    {
     "name": "stdout",
     "output_type": "stream",
     "text": [
      "dog \t 1.88\n",
      "rabbit \t 2.46\n",
      "monkey \t 2.81\n",
      "cats \t 2.90\n",
      "rat \t 2.95\n",
      "beast \t 2.99\n",
      "monster \t 3.00\n",
      "pet \t 3.04\n",
      "snake \t 3.06\n",
      "puppy \t 3.06\n"
     ]
    }
   ],
   "source": [
    "def print_closest_words(vec, n=5):\n",
    "    dists = torch.norm(glove.vectors - vec, dim=1)     # compute distances to all words\n",
    "    lst = sorted(enumerate(dists.numpy()), key=lambda x: x[1]) # sort by distance\n",
    "    for idx, difference in lst[1:n+1]:                         # take the top n\n",
    "        print(glove.itos[idx], \"\\t%5.2f\" % difference)\n",
    "\n",
    "print_closest_words(glove[\"cat\"], n=10)"
   ]
  },
  {
   "cell_type": "code",
   "execution_count": 7,
   "metadata": {},
   "outputs": [
    {
     "ename": "RuntimeError",
     "evalue": "The size of tensor a (50) must match the size of tensor b (300) at non-singleton dimension 1",
     "output_type": "error",
     "traceback": [
      "\u001b[1;31m---------------------------------------------------------------------------\u001b[0m",
      "\u001b[1;31mRuntimeError\u001b[0m                              Traceback (most recent call last)",
      "Cell \u001b[1;32mIn[7], line 7\u001b[0m\n\u001b[0;32m      4\u001b[0m     \u001b[39mfor\u001b[39;00m idx, difference \u001b[39min\u001b[39;00m lst[\u001b[39m1\u001b[39m:n\u001b[39m+\u001b[39m\u001b[39m1\u001b[39m]:                         \u001b[39m# take the top n\u001b[39;00m\n\u001b[0;32m      5\u001b[0m         \u001b[39mprint\u001b[39m(glove1\u001b[39m.\u001b[39mitos[idx], \u001b[39m\"\u001b[39m\u001b[39m\\t\u001b[39;00m\u001b[39m%5.2f\u001b[39;00m\u001b[39m\"\u001b[39m \u001b[39m%\u001b[39m difference)\n\u001b[1;32m----> 7\u001b[0m print_closest_words(glove1[\u001b[39m\"\u001b[39;49m\u001b[39mcat\u001b[39;49m\u001b[39m\"\u001b[39;49m], n\u001b[39m=\u001b[39;49m\u001b[39m10\u001b[39;49m)\n",
      "Cell \u001b[1;32mIn[5], line 2\u001b[0m, in \u001b[0;36mprint_closest_words\u001b[1;34m(vec, n)\u001b[0m\n\u001b[0;32m      1\u001b[0m \u001b[39mdef\u001b[39;00m \u001b[39mprint_closest_words\u001b[39m(vec, n\u001b[39m=\u001b[39m\u001b[39m5\u001b[39m):\n\u001b[1;32m----> 2\u001b[0m     dists \u001b[39m=\u001b[39m torch\u001b[39m.\u001b[39mnorm(glove\u001b[39m.\u001b[39;49mvectors \u001b[39m-\u001b[39;49m vec, dim\u001b[39m=\u001b[39m\u001b[39m1\u001b[39m)     \u001b[39m# compute distances to all words\u001b[39;00m\n\u001b[0;32m      3\u001b[0m     lst \u001b[39m=\u001b[39m \u001b[39msorted\u001b[39m(\u001b[39menumerate\u001b[39m(dists\u001b[39m.\u001b[39mnumpy()), key\u001b[39m=\u001b[39m\u001b[39mlambda\u001b[39;00m x: x[\u001b[39m1\u001b[39m]) \u001b[39m# sort by distance\u001b[39;00m\n\u001b[0;32m      4\u001b[0m     \u001b[39mfor\u001b[39;00m idx, difference \u001b[39min\u001b[39;00m lst[\u001b[39m1\u001b[39m:n\u001b[39m+\u001b[39m\u001b[39m1\u001b[39m]:                         \u001b[39m# take the top n\u001b[39;00m\n",
      "\u001b[1;31mRuntimeError\u001b[0m: The size of tensor a (50) must match the size of tensor b (300) at non-singleton dimension 1"
     ]
    }
   ],
   "source": [
    "def print_closest_words1(vec, n=5):\n",
    "    dists = torch.norm(glove1.vectors - vec, dim=1)     # compute distances to all words\n",
    "    lst = sorted(enumerate(dists.numpy()), key=lambda x: x[1]) # sort by distance\n",
    "    for idx, difference in lst[1:n+1]:                         # take the top n\n",
    "        print(glove1.itos[idx], \"\\t%5.2f\" % difference)\n",
    "\n",
    "print_closest_words1(glove1[\"cat\"], n=10)"
   ]
  },
  {
   "cell_type": "code",
   "execution_count": 8,
   "metadata": {},
   "outputs": [
    {
     "name": "stdout",
     "output_type": "stream",
     "text": [
      "cats \t 3.23\n",
      "dog \t 3.48\n",
      "kitten \t 3.55\n",
      "kittens \t 3.66\n",
      "fluffykittens \t 3.80\n",
      "👯 \t 3.83\n",
      "spoodle \t 3.86\n",
      "puppy/kitten \t 3.87\n",
      "kitteneatkitten \t 3.87\n",
      "feline \t 3.87\n"
     ]
    }
   ],
   "source": [
    "def print_closest_words3(vec, n=5):\n",
    "    dists = torch.norm(glove3.vectors - vec, dim=1)     # compute distances to all words\n",
    "    lst = sorted(enumerate(dists.numpy()), key=lambda x: x[1]) # sort by distance\n",
    "    for idx, difference in lst[1:n+1]:                         # take the top n\n",
    "        print(glove3.itos[idx], \"\\t%5.2f\" % difference)\n",
    "\n",
    "print_closest_words3(glove3[\"cat\"], n=10)"
   ]
  },
  {
   "cell_type": "code",
   "execution_count": 19,
   "metadata": {},
   "outputs": [
    {
     "name": "stdout",
     "output_type": "stream",
     "text": [
      "cat \t 1.88\n",
      "dogs \t 2.65\n",
      "puppy \t 3.15\n",
      "rabbit \t 3.18\n",
      "pet \t 3.23\n"
     ]
    }
   ],
   "source": [
    "print_closest_words(glove['dog'])"
   ]
  },
  {
   "cell_type": "code",
   "execution_count": 76,
   "metadata": {},
   "outputs": [
    {
     "ename": "RuntimeError",
     "evalue": "The size of tensor a (50) must match the size of tensor b (300) at non-singleton dimension 1",
     "output_type": "error",
     "traceback": [
      "\u001b[1;31m---------------------------------------------------------------------------\u001b[0m",
      "\u001b[1;31mRuntimeError\u001b[0m                              Traceback (most recent call last)",
      "Cell \u001b[1;32mIn[76], line 1\u001b[0m\n\u001b[1;32m----> 1\u001b[0m print_closest_words(glove1[\u001b[39m'\u001b[39;49m\u001b[39mdog\u001b[39;49m\u001b[39m'\u001b[39;49m])\n",
      "Cell \u001b[1;32mIn[7], line 2\u001b[0m, in \u001b[0;36mprint_closest_words\u001b[1;34m(vec, n)\u001b[0m\n\u001b[0;32m      1\u001b[0m \u001b[39mdef\u001b[39;00m \u001b[39mprint_closest_words\u001b[39m(vec, n\u001b[39m=\u001b[39m\u001b[39m5\u001b[39m):\n\u001b[1;32m----> 2\u001b[0m     dists \u001b[39m=\u001b[39m torch\u001b[39m.\u001b[39mnorm(glove\u001b[39m.\u001b[39;49mvectors \u001b[39m-\u001b[39;49m vec, dim\u001b[39m=\u001b[39m\u001b[39m1\u001b[39m)     \u001b[39m# compute distances to all words\u001b[39;00m\n\u001b[0;32m      3\u001b[0m     lst \u001b[39m=\u001b[39m \u001b[39msorted\u001b[39m(\u001b[39menumerate\u001b[39m(dists\u001b[39m.\u001b[39mnumpy()), key\u001b[39m=\u001b[39m\u001b[39mlambda\u001b[39;00m x: x[\u001b[39m1\u001b[39m]) \u001b[39m# sort by distance\u001b[39;00m\n\u001b[0;32m      4\u001b[0m     \u001b[39mfor\u001b[39;00m idx, difference \u001b[39min\u001b[39;00m lst[\u001b[39m1\u001b[39m:n\u001b[39m+\u001b[39m\u001b[39m1\u001b[39m]:                         \u001b[39m# take the top n\u001b[39;00m\n",
      "\u001b[1;31mRuntimeError\u001b[0m: The size of tensor a (50) must match the size of tensor b (300) at non-singleton dimension 1"
     ]
    }
   ],
   "source": [
    "print_closest_words(glove1['dog'])"
   ]
  },
  {
   "cell_type": "code",
   "execution_count": 28,
   "metadata": {},
   "outputs": [
    {
     "name": "stdout",
     "output_type": "stream",
     "text": [
      "doctor \t 3.13\n",
      "dentist \t 3.13\n",
      "nurses \t 3.27\n",
      "pediatrician \t 3.32\n",
      "counselor \t 3.40\n"
     ]
    }
   ],
   "source": [
    "print_closest_words(glove['nurse'])"
   ]
  },
  {
   "cell_type": "code",
   "execution_count": 29,
   "metadata": {},
   "outputs": [
    {
     "name": "stdout",
     "output_type": "stream",
     "text": [
      "computers \t 2.44\n",
      "software \t 2.93\n",
      "technology \t 3.19\n",
      "electronic \t 3.51\n",
      "computing \t 3.60\n"
     ]
    }
   ],
   "source": [
    "print_closest_words(glove['computer'])"
   ]
  },
  {
   "cell_type": "code",
   "execution_count": 30,
   "metadata": {},
   "outputs": [
    {
     "name": "stdout",
     "output_type": "stream",
     "text": [
      "margaret \t 2.01\n",
      "mary \t 2.27\n",
      "anne \t 2.30\n",
      "catherine \t 2.62\n",
      "katherine \t 2.72\n"
     ]
    }
   ],
   "source": [
    "print_closest_words(glove['elizabeth'])"
   ]
  },
  {
   "cell_type": "code",
   "execution_count": 31,
   "metadata": {},
   "outputs": [
    {
     "name": "stdout",
     "output_type": "stream",
     "text": [
      "peter \t 2.92\n",
      "moore \t 2.93\n",
      "david \t 2.94\n",
      "steven \t 2.99\n",
      "murphy \t 3.02\n"
     ]
    }
   ],
   "source": [
    "print_closest_words(glove['michael'])"
   ]
  },
  {
   "cell_type": "code",
   "execution_count": 32,
   "metadata": {},
   "outputs": [
    {
     "name": "stdout",
     "output_type": "stream",
     "text": [
      "care \t 2.64\n",
      "medical \t 3.24\n",
      "welfare \t 3.62\n",
      "prevention \t 3.76\n",
      "education \t 3.76\n"
     ]
    }
   ],
   "source": [
    "print_closest_words(glove['health'])"
   ]
  },
  {
   "cell_type": "code",
   "execution_count": 33,
   "metadata": {},
   "outputs": [
    {
     "name": "stdout",
     "output_type": "stream",
     "text": [
      "persistent \t 3.23\n",
      "experiencing \t 3.25\n",
      "discomfort \t 3.29\n",
      "nervousness \t 3.29\n",
      "anxieties \t 3.30\n"
     ]
    }
   ],
   "source": [
    "print_closest_words(glove['anxiety'])"
   ]
  },
  {
   "cell_type": "markdown",
   "metadata": {},
   "source": [
    "We could also look at which words are closest to the midpoints of two words:"
   ]
  },
  {
   "cell_type": "code",
   "execution_count": 34,
   "metadata": {},
   "outputs": [
    {
     "name": "stdout",
     "output_type": "stream",
     "text": [
      "happy \t 1.92\n",
      "feels \t 2.36\n",
      "sorry \t 2.50\n",
      "hardly \t 2.53\n",
      "imagine \t 2.57\n"
     ]
    }
   ],
   "source": [
    "print_closest_words((glove['happy'] + glove['sad']) / 2)"
   ]
  },
  {
   "cell_type": "code",
   "execution_count": 35,
   "metadata": {},
   "outputs": [
    {
     "name": "stdout",
     "output_type": "stream",
     "text": [
      "surrounding \t 3.07\n",
      "nearby \t 3.11\n",
      "bridge \t 3.16\n",
      "along \t 3.16\n",
      "shore \t 3.16\n"
     ]
    }
   ],
   "source": [
    "print_closest_words((glove['lake'] + glove['building']) / 2)"
   ]
  },
  {
   "cell_type": "code",
   "execution_count": 36,
   "metadata": {},
   "outputs": [
    {
     "name": "stdout",
     "output_type": "stream",
     "text": [
      "farrell \t 2.80\n",
      "anderson \t 2.85\n",
      "jacobs \t 2.85\n",
      "boyle \t 2.86\n",
      "slater \t 2.87\n"
     ]
    }
   ],
   "source": [
    "print_closest_words((glove['bravo'] + glove['michael']) / 2)"
   ]
  },
  {
   "cell_type": "code",
   "execution_count": 37,
   "metadata": {},
   "outputs": [
    {
     "name": "stdout",
     "output_type": "stream",
     "text": [
      "ten \t 1.57\n",
      "only \t 1.88\n",
      "three \t 2.03\n",
      "five \t 2.05\n",
      "four \t 2.11\n"
     ]
    }
   ],
   "source": [
    "print_closest_words((glove['one'] + glove['ten']) / 2)"
   ]
  },
  {
   "cell_type": "markdown",
   "metadata": {},
   "source": [
    "## Analogies\n",
    "\n",
    "One surprising aspect of word embeddings is that the *directions* in the embedding space can be meaningful. For example, some analogy-like relationships like this tend to hold:\n",
    "\n",
    "$$ king - man + woman \\approx queen $$"
   ]
  },
  {
   "cell_type": "code",
   "execution_count": 8,
   "metadata": {},
   "outputs": [
    {
     "name": "stdout",
     "output_type": "stream",
     "text": [
      "queen \t 2.84\n",
      "prince \t 3.66\n",
      "elizabeth \t 3.72\n",
      "daughter \t 3.83\n",
      "widow \t 3.85\n"
     ]
    }
   ],
   "source": [
    "print_closest_words(glove['king'] - glove['man'] + glove['woman'])"
   ]
  },
  {
   "cell_type": "code",
   "execution_count": 64,
   "metadata": {},
   "outputs": [
    {
     "name": "stdout",
     "output_type": "stream",
     "text": [
      "limits \t 4.18\n",
      "minimum \t 4.23\n",
      "requires \t 4.28\n",
      "amounts \t 4.30\n",
      "limiting \t 4.31\n"
     ]
    }
   ],
   "source": [
    "print_closest_words(glove['greater'] - glove['great'] + glove['fine'])"
   ]
  },
  {
   "cell_type": "markdown",
   "metadata": {},
   "source": [
    "The top result is a reasonable answer like \"queen\",  and the name of the queen of england.\n",
    "\n",
    "We can flip the analogy around and it works:"
   ]
  },
  {
   "cell_type": "code",
   "execution_count": 39,
   "metadata": {},
   "outputs": [
    {
     "name": "stdout",
     "output_type": "stream",
     "text": [
      "king \t 2.84\n",
      "prince \t 3.25\n",
      "crown \t 3.45\n",
      "knight \t 3.56\n",
      "coronation \t 3.62\n"
     ]
    }
   ],
   "source": [
    "print_closest_words(glove['queen'] - glove['woman'] + glove['man'])"
   ]
  },
  {
   "cell_type": "markdown",
   "metadata": {},
   "source": [
    "Or, try a different but related analogies along a gender axis:"
   ]
  },
  {
   "cell_type": "code",
   "execution_count": 40,
   "metadata": {},
   "outputs": [
    {
     "name": "stdout",
     "output_type": "stream",
     "text": [
      "queen \t 3.18\n",
      "king \t 3.91\n",
      "bride \t 4.29\n",
      "lady \t 4.30\n",
      "sister \t 4.42\n"
     ]
    }
   ],
   "source": [
    "print_closest_words(glove['king'] - glove['prince'] + glove['princess'])"
   ]
  },
  {
   "cell_type": "code",
   "execution_count": null,
   "metadata": {},
   "outputs": [],
   "source": [
    "print_closest_words(glove['uncle'] - glove['man'] + glove['woman'])"
   ]
  },
  {
   "cell_type": "code",
   "execution_count": null,
   "metadata": {},
   "outputs": [],
   "source": [
    "print_closest_words(glove['grandmother'] - glove['mother'] + glove['father'])"
   ]
  },
  {
   "cell_type": "code",
   "execution_count": null,
   "metadata": {},
   "outputs": [],
   "source": [
    "print_closest_words(glove['old'] - glove['young'] + glove['father'])"
   ]
  },
  {
   "cell_type": "markdown",
   "metadata": {},
   "source": [
    "We can also move an embedding towards the direction of \"goodness\" or \"badness\":"
   ]
  },
  {
   "cell_type": "code",
   "execution_count": 61,
   "metadata": {},
   "outputs": [
    {
     "name": "stdout",
     "output_type": "stream",
     "text": [
      "versatile \t 4.38\n",
      "creative \t 4.57\n",
      "entrepreneur \t 4.63\n",
      "enables \t 4.72\n",
      "intelligent \t 4.73\n"
     ]
    }
   ],
   "source": [
    "print_closest_words(glove['good'] - glove['bad'] + glove['programmer'])"
   ]
  },
  {
   "cell_type": "code",
   "execution_count": 62,
   "metadata": {},
   "outputs": [
    {
     "name": "stdout",
     "output_type": "stream",
     "text": [
      "hacker \t 3.84\n",
      "glitch \t 4.00\n",
      "originator \t 4.04\n",
      "hack \t 4.05\n",
      "serial \t 4.23\n"
     ]
    }
   ],
   "source": [
    "print_closest_words(glove['bad'] - glove['good'] + glove['programmer'])"
   ]
  },
  {
   "cell_type": "markdown",
   "metadata": {},
   "source": [
    "## Bias in Word Vectors\n",
    "\n",
    "While it may appear that machine learning models have an implicit air of \"fairness\" about them, because the models\n",
    "make decisions without human intervention. However, models can and do learn whatever bias is present in the training data - in this case the bias is present in the text that the vectors were trained on.\n",
    "\n",
    "Below are some examples that show that the structure of the GloVe vectors encodes the everyday biases present in the texts that they are trained on.\n",
    "\n",
    "We'll start with an example analogy:\n",
    "\n",
    "$$doctor - man + woman \\approx ??$$\n",
    "\n",
    "Using GloVe vectors to find the answer to the above analogy:"
   ]
  },
  {
   "cell_type": "code",
   "execution_count": 9,
   "metadata": {},
   "outputs": [
    {
     "name": "stdout",
     "output_type": "stream",
     "text": [
      "nurse \t 3.14\n",
      "pregnant \t 3.78\n",
      "child \t 3.78\n",
      "woman \t 3.86\n",
      "mother \t 3.92\n"
     ]
    }
   ],
   "source": [
    "print_closest_words(glove['doctor'] - glove['man'] + glove['woman'])"
   ]
  },
  {
   "cell_type": "code",
   "execution_count": 11,
   "metadata": {},
   "outputs": [
    {
     "name": "stdout",
     "output_type": "stream",
     "text": [
      "doctoress \t 4.27\n",
      "woman \t 4.32\n",
      "doctors \t 4.35\n",
      "doctor/physician \t 4.39\n",
      "doctory \t 4.43\n"
     ]
    }
   ],
   "source": [
    "print_closest_words3(glove3['doctor'] - glove3['man'] + glove3['woman'])"
   ]
  },
  {
   "cell_type": "markdown",
   "metadata": {},
   "source": [
    "The $$doctor - man + woman \\approx nurse$$ analogy is very concerning.\n",
    "Just to verify, the same result does not appear if we flip the gender terms:"
   ]
  },
  {
   "cell_type": "code",
   "execution_count": 42,
   "metadata": {},
   "outputs": [
    {
     "name": "stdout",
     "output_type": "stream",
     "text": [
      "man \t 3.93\n",
      "colleague \t 3.98\n",
      "himself \t 3.98\n",
      "brother \t 4.00\n",
      "another \t 4.03\n"
     ]
    }
   ],
   "source": [
    "print_closest_words(glove['doctor'] - glove['woman'] + glove['man'])"
   ]
  },
  {
   "cell_type": "markdown",
   "metadata": {},
   "source": [
    "We see similar types of gender bias with other professions."
   ]
  },
  {
   "cell_type": "code",
   "execution_count": 43,
   "metadata": {},
   "outputs": [
    {
     "name": "stdout",
     "output_type": "stream",
     "text": [
      "prodigy \t 3.67\n",
      "psychotherapist \t 3.81\n",
      "therapist \t 3.81\n",
      "introduces \t 3.91\n",
      "swedish-born \t 4.12\n"
     ]
    }
   ],
   "source": [
    "print_closest_words(glove['programmer'] - glove['man'] + glove['woman'])"
   ]
  },
  {
   "cell_type": "markdown",
   "metadata": {},
   "source": [
    "Beyond the first result, none of the other words are even related to\n",
    "programming! In contrast, if we flip the gender terms, we get very\n",
    "different results:"
   ]
  },
  {
   "cell_type": "code",
   "execution_count": 44,
   "metadata": {},
   "outputs": [
    {
     "name": "stdout",
     "output_type": "stream",
     "text": [
      "setup \t 4.00\n",
      "innovator \t 4.07\n",
      "programmers \t 4.17\n",
      "hacker \t 4.23\n",
      "genius \t 4.36\n"
     ]
    }
   ],
   "source": [
    "print_closest_words(glove['programmer'] - glove['woman'] + glove['man'])"
   ]
  },
  {
   "cell_type": "code",
   "execution_count": 12,
   "metadata": {},
   "outputs": [
    {
     "name": "stdout",
     "output_type": "stream",
     "text": [
      "programmer/developer \t 3.94\n",
      "programmering \t 4.07\n",
      "programmers \t 4.15\n",
      "programmer,drums \t 4.21\n",
      "designer/programmer \t 4.24\n"
     ]
    }
   ],
   "source": [
    "print_closest_words3(glove3['programmer'] - glove3['woman'] + glove3['man'])"
   ]
  },
  {
   "cell_type": "markdown",
   "metadata": {},
   "source": [
    "Here are the results for \"engineer\":"
   ]
  },
  {
   "cell_type": "code",
   "execution_count": 45,
   "metadata": {},
   "outputs": [
    {
     "name": "stdout",
     "output_type": "stream",
     "text": [
      "technician \t 3.69\n",
      "mechanic \t 3.92\n",
      "pioneer \t 4.15\n",
      "pioneering \t 4.19\n",
      "educator \t 4.23\n"
     ]
    }
   ],
   "source": [
    "print_closest_words(glove['engineer'] - glove['man'] + glove['woman'])"
   ]
  },
  {
   "cell_type": "code",
   "execution_count": 46,
   "metadata": {},
   "outputs": [
    {
     "name": "stdout",
     "output_type": "stream",
     "text": [
      "builder \t 4.35\n",
      "mechanic \t 4.40\n",
      "engineers \t 4.48\n",
      "worked \t 4.53\n",
      "replacing \t 4.60\n"
     ]
    }
   ],
   "source": [
    "print_closest_words(glove['engineer'] - glove['woman'] + glove['man'])"
   ]
  }
 ],
 "metadata": {
  "kernelspec": {
   "display_name": "Python 3 (ipykernel)",
   "language": "python",
   "name": "python3"
  },
  "language_info": {
   "codemirror_mode": {
    "name": "ipython",
    "version": 3
   },
   "file_extension": ".py",
   "mimetype": "text/x-python",
   "name": "python",
   "nbconvert_exporter": "python",
   "pygments_lexer": "ipython3",
   "version": "3.10.13"
  }
 },
 "nbformat": 4,
 "nbformat_minor": 2
}
