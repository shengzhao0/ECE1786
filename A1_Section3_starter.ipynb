{
 "cells": [
  {
   "cell_type": "code",
   "execution_count": 1,
   "id": "164d59ba",
   "metadata": {},
   "outputs": [],
   "source": [
    "from collections import Counter\n",
    "import numpy as np\n",
    "import torch\n",
    "import spacy\n",
    "from sklearn.model_selection import train_test_split"
   ]
  },
  {
   "cell_type": "code",
   "execution_count": 3,
   "id": "6335bf81",
   "metadata": {},
   "outputs": [],
   "source": [
    "# prepare text using the spacy english pipeline (see https://spacy.io/models/en)\n",
    "# we'll use it to lemmatize the text, and determine which part of speech each\n",
    "# lemmatize edits words to become the 'root' word - e.g. holds -> hold;  rubs->rub\n",
    "# part of speech indicates if the item is a verb, nooun, punctuation, space and so on.\n",
    "# make sure that the text sent to spacy doesn't end with a period immediately followed by a newline,\n",
    "# instead, make sure there is a space between the period and the newline, so that the period \n",
    "# is correctly identified as punctuation.\n",
    "\n",
    "def prepare_texts(text):    \n",
    "    # Get a callable object from spaCy that processes the text - lemmatizes and determines part of speech\n",
    "\n",
    "    nlp = spacy.load(\"en_core_web_sm\")\n",
    "    \n",
    "    # lemmatize the text, get part of speech, and remove spaces and punctuation\n",
    "    \n",
    "    lemmas = [tok.lemma_ for tok in nlp(text) if tok.pos_ not in [\"PUNCT\", \"SPACE\"]]\n",
    "    \n",
    "    # count the number of occurences of each word in the vocabulary\n",
    "    \n",
    "    freqs = Counter() \n",
    "    for w in lemmas:\n",
    "        freqs[w] += 1\n",
    "        \n",
    "    vocab = list(freqs.items())  # List of (word, occurrence)\n",
    "    \n",
    "    vocab = sorted(vocab, key=lambda item: item[1], reverse=True)  # Sort by decreasing frequency\n",
    "    print(vocab)\n",
    "    \n",
    "    # Create word->index dictionary and index->word dictionary\n",
    "    \n",
    "    v2i = {v[0]:i for i,v in enumerate(vocab)}\n",
    "    i2v = {i:v[0] for i,v in enumerate(vocab)}\n",
    "    \n",
    "    return lemmas, v2i, i2v"
   ]
  },
  {
   "cell_type": "code",
   "execution_count": 13,
   "id": "d5530a36",
   "metadata": {},
   "outputs": [
    {
     "name": "stdout",
     "output_type": "stream",
     "text": [
      "[('and', 160), ('hold', 128), ('dog', 128), ('cat', 128), ('rub', 128), ('a', 104), ('the', 104), ('can', 104), ('she', 96), ('he', 96), ('I', 80)]\n",
      "{0: 'and', 1: 'hold', 2: 'dog', 3: 'cat', 4: 'rub', 5: 'a', 6: 'the', 7: 'can', 8: 'she', 9: 'he', 10: 'I'}\n",
      "['I', 'hold', 'a', 'dog', 'I', 'hold', 'the', 'dog', 'I', 'hold', 'a', 'cat', 'I', 'hold', 'the', 'cat', 'I', 'rub', 'a', 'dog', 'I', 'rub', 'the', 'dog', 'I', 'rub', 'a', 'cat', 'I', 'rub', 'the', 'cat', 'I', 'hold', 'and', 'rub', 'a', 'dog', 'I', 'hold', 'and', 'rub', 'the', 'dog', 'I', 'hold', 'and', 'rub', 'a', 'cat', 'I', 'hold', 'and', 'rub', 'the', 'cat', 'I', 'hold', 'a', 'dog', 'and', 'cat', 'I', 'hold', 'the', 'dog', 'and', 'cat', 'I', 'hold', 'a', 'cat', 'and', 'dog', 'I', 'hold', 'the', 'cat', 'and', 'dog', 'I', 'rub', 'a', 'dog', 'and', 'cat', 'I', 'rub', 'the', 'dog', 'and', 'cat', 'I', 'rub', 'a', 'cat', 'and', 'dog', 'I', 'rub', 'the', 'cat', 'and', 'dog', 'I', 'hold', 'and', 'rub', 'a', 'dog', 'I', 'hold', 'and', 'rub', 'a', 'cat', 'I', 'hold', 'and', 'rub', 'the', 'dog', 'I', 'hold', 'and', 'rub', 'the', 'cat', 'I', 'can', 'hold', 'a', 'dog', 'I', 'can', 'hold', 'the', 'dog', 'I', 'can', 'hold', 'a', 'cat', 'I', 'can', 'hold', 'the', 'cat', 'I', 'can', 'rub', 'a', 'dog', 'I', 'can', 'rub', 'the', 'dog', 'I', 'can', 'rub', 'a', 'cat', 'I', 'can', 'rub', 'the', 'cat', 'I', 'can', 'hold', 'a', 'dog', 'and', 'cat', 'I', 'can', 'hold', 'the', 'dog', 'and', 'cat', 'I', 'can', 'hold', 'a', 'cat', 'and', 'dog', 'I', 'can', 'hold', 'the', 'cat', 'and', 'dog', 'I', 'can', 'hold', 'and', 'rub', 'a', 'dog', 'I', 'can', 'hold', 'and', 'rub', 'the', 'dog', 'I', 'can', 'hold', 'and', 'rub', 'a', 'cat', 'I', 'can', 'hold', 'and', 'rub', 'the', 'cat', 'I', 'can', 'rub', 'a', 'dog', 'and', 'cat', 'I', 'can', 'rub', 'the', 'dog', 'and', 'cat', 'I', 'can', 'rub', 'a', 'cat', 'and', 'dog', 'I', 'can', 'rub', 'the', 'cat', 'and', 'dog', 'I', 'can', 'rub', 'and', 'hold', 'a', 'cat', 'I', 'can', 'rub', 'and', 'hold', 'a', 'dog', 'I', 'can', 'rub', 'and', 'hold', 'the', 'cat', 'I', 'can', 'rub', 'and', 'hold', 'the', 'dog', 'she', 'hold', 'a', 'dog', 'she', 'hold', 'the', 'dog', 'she', 'hold', 'a', 'cat', 'she', 'hold', 'the', 'cat', 'she', 'rub', 'a', 'dog', 'she', 'rub', 'the', 'dog', 'she', 'rub', 'a', 'cat', 'she', 'rub', 'the', 'cat', 'she', 'hold', 'and', 'rub', 'a', 'dog', 'she', 'hold', 'and', 'rub', 'the', 'dog', 'she', 'hold', 'and', 'rub', 'a', 'cat', 'she', 'hold', 'and', 'rub', 'the', 'cat', 'she', 'rub', 'and', 'hold', 'a', 'dog', 'she', 'rub', 'and', 'hold', 'a', 'cat', 'she', 'rub', 'and', 'hold', 'the', 'dog', 'she', 'rub', 'and', 'hold', 'the', 'cat', 'she', 'hold', 'a', 'dog', 'and', 'cat', 'she', 'hold', 'the', 'dog', 'and', 'cat', 'she', 'hold', 'a', 'cat', 'and', 'dog', 'she', 'hold', 'the', 'cat', 'and', 'dog', 'she', 'rub', 'a', 'dog', 'and', 'cat', 'she', 'rub', 'the', 'dog', 'and', 'cat', 'she', 'rub', 'a', 'cat', 'and', 'dog', 'she', 'rub', 'the', 'cat', 'and', 'dog', 'she', 'can', 'hold', 'a', 'dog', 'she', 'can', 'hold', 'the', 'dog', 'she', 'can', 'hold', 'a', 'cat', 'she', 'can', 'hold', 'the', 'cat', 'she', 'can', 'rub', 'a', 'dog', 'she', 'can', 'rub', 'the', 'dog', 'she', 'can', 'rub', 'a', 'cat', 'she', 'can', 'rub', 'the', 'cat', 'she', 'can', 'hold', 'a', 'dog', 'and', 'cat', 'she', 'can', 'hold', 'the', 'dog', 'and', 'cat', 'she', 'can', 'hold', 'a', 'cat', 'and', 'dog', 'she', 'can', 'hold', 'the', 'cat', 'and', 'dog', 'she', 'can', 'hold', 'and', 'rub', 'a', 'dog', 'she', 'can', 'hold', 'and', 'rub', 'the', 'dog', 'she', 'can', 'hold', 'and', 'rub', 'a', 'cat', 'she', 'can', 'hold', 'and', 'rub', 'the', 'cat', 'she', 'can', 'rub', 'a', 'dog', 'and', 'cat', 'she', 'can', 'rub', 'the', 'dog', 'and', 'cat', 'she', 'can', 'rub', 'a', 'cat', 'and', 'dog', 'she', 'can', 'rub', 'the', 'cat', 'and', 'dog', 'she', 'can', 'rub', 'and', 'hold', 'a', 'cat', 'she', 'can', 'rub', 'and', 'hold', 'a', 'dog', 'she', 'can', 'rub', 'and', 'hold', 'the', 'cat', 'she', 'can', 'rub', 'and', 'hold', 'the', 'dog', 'he', 'hold', 'a', 'dog', 'he', 'hold', 'the', 'dog', 'he', 'hold', 'a', 'cat', 'he', 'hold', 'the', 'cat', 'he', 'rub', 'a', 'dog', 'he', 'rub', 'the', 'dog', 'he', 'rub', 'a', 'cat', 'he', 'rub', 'the', 'cat', 'he', 'hold', 'and', 'rub', 'a', 'dog', 'he', 'hold', 'and', 'rub', 'the', 'dog', 'he', 'hold', 'and', 'rub', 'a', 'cat', 'he', 'hold', 'and', 'rub', 'the', 'cat', 'he', 'rub', 'and', 'hold', 'a', 'dog', 'he', 'rub', 'and', 'hold', 'a', 'cat', 'he', 'rub', 'and', 'hold', 'the', 'dog', 'he', 'rub', 'and', 'hold', 'the', 'cat', 'he', 'hold', 'a', 'dog', 'and', 'cat', 'he', 'hold', 'the', 'dog', 'and', 'cat', 'he', 'hold', 'a', 'cat', 'and', 'dog', 'he', 'hold', 'the', 'cat', 'and', 'dog', 'he', 'rub', 'a', 'dog', 'and', 'cat', 'he', 'rub', 'the', 'dog', 'and', 'cat', 'he', 'rub', 'a', 'cat', 'and', 'dog', 'he', 'rub', 'the', 'cat', 'and', 'dog', 'he', 'can', 'hold', 'a', 'dog', 'he', 'can', 'hold', 'the', 'dog', 'he', 'can', 'hold', 'a', 'cat', 'he', 'can', 'hold', 'the', 'cat', 'he', 'can', 'rub', 'a', 'dog', 'he', 'can', 'rub', 'the', 'dog', 'he', 'can', 'rub', 'a', 'cat', 'he', 'can', 'rub', 'the', 'cat', 'he', 'can', 'hold', 'a', 'dog', 'and', 'cat', 'he', 'can', 'hold', 'the', 'dog', 'and', 'cat', 'he', 'can', 'hold', 'a', 'cat', 'and', 'dog', 'he', 'can', 'hold', 'the', 'cat', 'and', 'dog', 'he', 'can', 'hold', 'and', 'rub', 'a', 'dog', 'he', 'can', 'hold', 'and', 'rub', 'the', 'dog', 'he', 'can', 'hold', 'and', 'rub', 'a', 'cat', 'he', 'can', 'hold', 'and', 'rub', 'the', 'cat', 'he', 'can', 'rub', 'a', 'dog', 'and', 'cat', 'he', 'can', 'rub', 'the', 'dog', 'and', 'cat', 'he', 'can', 'rub', 'a', 'cat', 'and', 'dog', 'he', 'can', 'rub', 'the', 'cat', 'and', 'dog', 'he', 'can', 'rub', 'and', 'hold', 'a', 'cat', 'he', 'can', 'rub', 'and', 'hold', 'a', 'dog', 'he', 'can', 'rub', 'and', 'hold', 'the', 'cat', 'he', 'can', 'rub', 'and', 'hold', 'the', 'dog', 'he', 'and', 'I', 'hold', 'a', 'dog', 'he', 'and', 'I', 'hold', 'the', 'dog', 'he', 'and', 'I', 'hold', 'a', 'cat', 'he', 'and', 'I', 'hold', 'the', 'cat', 'he', 'and', 'I', 'rub', 'a', 'dog', 'he', 'and', 'I', 'rub', 'the', 'dog', 'he', 'and', 'I', 'rub', 'a', 'cat', 'he', 'and', 'I', 'rub', 'the', 'cat', 'he', 'and', 'I', 'can', 'hold', 'a', 'dog', 'he', 'and', 'I', 'can', 'hold', 'the', 'dog', 'he', 'and', 'I', 'can', 'hold', 'a', 'cat', 'he', 'and', 'I', 'can', 'hold', 'the', 'cat', 'he', 'and', 'I', 'can', 'rub', 'a', 'dog', 'he', 'and', 'I', 'can', 'rub', 'the', 'dog', 'he', 'and', 'I', 'can', 'rub', 'a', 'cat', 'he', 'and', 'I', 'can', 'rub', 'the', 'cat', 'she', 'and', 'I', 'hold', 'a', 'dog', 'she', 'and', 'I', 'hold', 'the', 'dog', 'she', 'and', 'I', 'hold', 'a', 'cat', 'she', 'and', 'I', 'hold', 'the', 'cat', 'she', 'and', 'I', 'rub', 'a', 'dog', 'she', 'and', 'I', 'rub', 'the', 'dog', 'she', 'and', 'I', 'rub', 'a', 'cat', 'she', 'and', 'I', 'rub', 'the', 'cat', 'she', 'and', 'I', 'can', 'hold', 'a', 'dog', 'she', 'and', 'I', 'can', 'hold', 'the', 'dog', 'she', 'and', 'I', 'can', 'hold', 'a', 'cat', 'she', 'and', 'I', 'can', 'hold', 'the', 'cat', 'she', 'and', 'I', 'can', 'rub', 'a', 'dog', 'she', 'and', 'I', 'can', 'rub', 'the', 'dog', 'she', 'and', 'I', 'can', 'rub', 'a', 'cat', 'she', 'and', 'I', 'can', 'rub', 'the', 'cat', 'she', 'and', 'he', 'hold', 'a', 'dog', 'she', 'and', 'he', 'hold', 'the', 'dog', 'she', 'and', 'he', 'hold', 'a', 'cat', 'she', 'and', 'he', 'hold', 'the', 'cat', 'she', 'and', 'he', 'rub', 'a', 'dog', 'she', 'and', 'he', 'rub', 'the', 'dog', 'she', 'and', 'he', 'rub', 'a', 'cat', 'she', 'and', 'he', 'rub', 'the', 'cat', 'she', 'and', 'he', 'can', 'hold', 'a', 'dog', 'she', 'and', 'he', 'can', 'hold', 'the', 'dog', 'she', 'and', 'he', 'can', 'hold', 'a', 'cat', 'she', 'and', 'he', 'can', 'hold', 'the', 'cat', 'she', 'and', 'he', 'can', 'rub', 'a', 'dog', 'she', 'and', 'he', 'can', 'rub', 'the', 'dog', 'she', 'and', 'he', 'can', 'rub', 'a', 'cat', 'she', 'and', 'he', 'can', 'rub', 'the', 'cat', 'he', 'and', 'she', 'hold', 'a', 'dog', 'he', 'and', 'she', 'hold', 'the', 'dog', 'he', 'and', 'she', 'hold', 'a', 'cat', 'he', 'and', 'she', 'hold', 'the', 'cat', 'he', 'and', 'she', 'rub', 'a', 'dog', 'he', 'and', 'she', 'rub', 'the', 'dog', 'he', 'and', 'she', 'rub', 'a', 'cat', 'he', 'and', 'she', 'rub', 'the', 'cat', 'he', 'and', 'she', 'can', 'hold', 'a', 'dog', 'he', 'and', 'she', 'can', 'hold', 'the', 'dog', 'he', 'and', 'she', 'can', 'hold', 'a', 'cat', 'he', 'and', 'she', 'can', 'hold', 'the', 'cat', 'he', 'and', 'she', 'can', 'rub', 'a', 'dog', 'he', 'and', 'she', 'can', 'rub', 'the', 'dog', 'he', 'and', 'she', 'can', 'rub', 'a', 'cat', 'he', 'and', 'she', 'can', 'rub', 'the', 'cat']\n"
     ]
    }
   ],
   "source": [
    "# read in the text file, and prepare the text for use in the model\n",
    "import os\n",
    "text = open('SmallSimpleCorpus.txt').read()\n",
    "a,b,c = prepare_texts(text)\n",
    "print(c)\n",
    "print(a)"
   ]
  },
  {
   "cell_type": "markdown",
   "id": "6b38e8c2",
   "metadata": {},
   "source": [
    "#### This following function walks through each word, and looks at a window (of size 'window') of words and creates input/output prediction pairs, predicting each of the words surrounding the current word from the current word.  So here we say that we are 'predicting the context' from the word"
   ]
  },
  {
   "cell_type": "code",
   "execution_count": 16,
   "id": "719dc852",
   "metadata": {},
   "outputs": [],
   "source": [
    "def tokenize_and_preprocess_text(textlist, v2i, window = 3):\n",
    "\n",
    "    # Predict context with word. Sample the context within a window size.\n",
    "    # based on the period at the end of the sentence, we'll split the text into sentences\n",
    "    nlp = spacy.load(\"en_core_web_sm\")\n",
    "    sentence = textlist.split(\".\")\n",
    "    X, Y = [], []  # is the list of training/test samples\n",
    "    for i in sentence:\n",
    "        lemmas = [tok.lemma_ for tok in nlp(i) if tok.pos_ not in [\"PUNCT\", \"SPACE\"]]\n",
    "        for word in lemmas:\n",
    "            # search each word within the window size from -(window-1)/2 to +(window-1)/2, not including the word itself\n",
    "            for j in range(-(window-1)//2, (window-1)//2+1):\n",
    "                if j != 0:\n",
    "                    if lemmas.index(word)+j >= 0 and lemmas.index(word)+j < len(lemmas):\n",
    "                        X.append(v2i[word])\n",
    "                        Y.append(v2i[lemmas[lemmas.index(word)+j]])\n",
    "    \n",
    "    # TO DO - create all the X,Y pairs\n",
    "    \n",
    "    return X, Y"
   ]
  },
  {
   "cell_type": "code",
   "execution_count": 33,
   "id": "3f77e63e",
   "metadata": {},
   "outputs": [
    {
     "name": "stdout",
     "output_type": "stream",
     "text": [
      "[('and', 160), ('hold', 128), ('dog', 128), ('cat', 128), ('rub', 128), ('a', 104), ('the', 104), ('can', 104), ('she', 96), ('he', 96), ('I', 80)]\n",
      "[10, 1, 1, 5, 5, 2, 10, 1, 1, 6, 6, 2, 10, 1, 1, 5, 5, 3, 10, 1]\n",
      "[1, 10, 5, 1, 2, 5, 1, 10, 6, 1, 2, 6, 1, 10, 5, 1, 3, 5, 1, 10]\n"
     ]
    }
   ],
   "source": [
    "text = open('SmallSimpleCorpus.txt').read()\n",
    "a,v2i, i2v = prepare_texts(text)\n",
    "\n",
    "X, Y = tokenize_and_preprocess_text(text, v2i)\n",
    "\n",
    "print(X[:20])\n",
    "print(Y[:20])\n"
   ]
  },
  {
   "cell_type": "code",
   "execution_count": 26,
   "id": "3be718fb",
   "metadata": {},
   "outputs": [
    {
     "name": "stdout",
     "output_type": "stream",
     "text": [
      "['I', 'hold', 'hold', 'a', 'a', 'dog', 'I', 'hold', 'hold', 'the', 'the', 'dog', 'I', 'hold', 'hold', 'a', 'a', 'cat', 'I', 'hold', 'hold', 'the', 'the', 'cat', 'I', 'rub', 'rub', 'a', 'a', 'dog', 'I', 'rub', 'rub', 'the', 'the', 'dog', 'I', 'rub', 'rub', 'a', 'a', 'cat', 'I', 'rub', 'rub', 'the', 'the', 'cat', 'I', 'hold', 'hold', 'and', 'and', 'rub', 'rub', 'a', 'a', 'dog', 'I', 'hold', 'hold', 'and', 'and', 'rub', 'rub', 'the', 'the', 'dog', 'I', 'hold', 'hold', 'and', 'and', 'rub', 'rub', 'a', 'a', 'cat', 'I', 'hold', 'hold', 'and', 'and', 'rub', 'rub', 'the', 'the', 'cat', 'I', 'hold', 'hold', 'a', 'a', 'dog', 'dog', 'and', 'and', 'cat', 'I', 'hold', 'hold', 'the', 'the', 'dog', 'dog', 'and', 'and', 'cat', 'I', 'hold', 'hold', 'a', 'a', 'cat', 'cat', 'and', 'and', 'dog', 'I', 'hold', 'hold', 'the', 'the', 'cat', 'cat', 'and', 'and', 'dog', 'I', 'rub', 'rub', 'a', 'a', 'dog', 'dog', 'and', 'and', 'cat', 'I', 'rub', 'rub', 'the', 'the', 'dog', 'dog', 'and', 'and', 'cat', 'I', 'rub', 'rub', 'a', 'a', 'cat', 'cat', 'and', 'and', 'dog', 'I', 'rub', 'rub', 'the', 'the', 'cat', 'cat', 'and', 'and', 'dog', 'I', 'hold', 'hold', 'and', 'and', 'rub', 'rub', 'a', 'a', 'dog', 'I', 'hold', 'hold', 'and', 'and', 'rub', 'rub', 'a', 'a', 'cat', 'I', 'hold', 'hold', 'and', 'and', 'rub', 'rub', 'the', 'the', 'dog', 'I', 'hold', 'hold', 'and', 'and', 'rub', 'rub', 'the', 'the', 'cat', 'I', 'can', 'can', 'hold', 'hold', 'a', 'a', 'dog', 'I', 'can', 'can', 'hold', 'hold', 'the', 'the', 'dog', 'I', 'can', 'can', 'hold', 'hold', 'a', 'a', 'cat', 'I', 'can', 'can', 'hold', 'hold', 'the', 'the', 'cat', 'I', 'can', 'can', 'rub', 'rub', 'a', 'a', 'dog', 'I', 'can', 'can', 'rub', 'rub', 'the', 'the', 'dog', 'I', 'can', 'can', 'rub', 'rub', 'a', 'a', 'cat', 'I', 'can', 'can', 'rub', 'rub', 'the', 'the', 'cat', 'I', 'can', 'can', 'hold', 'hold', 'a', 'a', 'dog', 'dog', 'and', 'and', 'cat', 'I', 'can', 'can', 'hold', 'hold', 'the', 'the', 'dog', 'dog', 'and', 'and', 'cat', 'I', 'can', 'can', 'hold', 'hold', 'a', 'a', 'cat', 'cat', 'and', 'and', 'dog', 'I', 'can', 'can', 'hold', 'hold', 'the', 'the', 'cat', 'cat', 'and', 'and', 'dog', 'I', 'can', 'can', 'hold', 'hold', 'and', 'and', 'rub', 'rub', 'a', 'a', 'dog', 'I', 'can', 'can', 'hold', 'hold', 'and', 'and', 'rub', 'rub', 'the', 'the', 'dog', 'I', 'can', 'can', 'hold', 'hold', 'and', 'and', 'rub', 'rub', 'a', 'a', 'cat', 'I', 'can', 'can', 'hold', 'hold', 'and', 'and', 'rub', 'rub', 'the', 'the', 'cat', 'I', 'can', 'can', 'rub', 'rub', 'a', 'a', 'dog', 'dog', 'and', 'and', 'cat', 'I', 'can', 'can', 'rub', 'rub', 'the', 'the', 'dog', 'dog', 'and', 'and', 'cat', 'I', 'can', 'can', 'rub', 'rub', 'a', 'a', 'cat', 'cat', 'and', 'and', 'dog', 'I', 'can', 'can', 'rub', 'rub', 'the', 'the', 'cat', 'cat', 'and', 'and', 'dog', 'I', 'can', 'can', 'rub', 'rub', 'and', 'and', 'hold', 'hold', 'a', 'a', 'cat', 'I', 'can', 'can', 'rub', 'rub', 'and', 'and', 'hold', 'hold', 'a', 'a', 'dog', 'I', 'can', 'can', 'rub', 'rub', 'and', 'and', 'hold', 'hold', 'the', 'the', 'cat', 'I', 'can', 'can', 'rub', 'rub', 'and', 'and', 'hold', 'hold', 'the', 'the', 'dog', 'she', 'hold', 'hold', 'a', 'a', 'dog', 'she', 'hold', 'hold', 'the', 'the', 'dog', 'she', 'hold', 'hold', 'a', 'a', 'cat', 'she', 'hold', 'hold', 'the', 'the', 'cat', 'she', 'rub', 'rub', 'a', 'a', 'dog', 'she', 'rub', 'rub', 'the', 'the', 'dog', 'she', 'rub', 'rub', 'a', 'a', 'cat', 'she', 'rub', 'rub', 'the', 'the', 'cat', 'she', 'hold', 'hold', 'and', 'and', 'rub', 'rub', 'a', 'a', 'dog', 'she', 'hold', 'hold', 'and', 'and', 'rub', 'rub', 'the', 'the', 'dog', 'she', 'hold', 'hold', 'and', 'and', 'rub', 'rub', 'a', 'a', 'cat', 'she', 'hold', 'hold', 'and', 'and', 'rub', 'rub', 'the', 'the', 'cat', 'she', 'rub', 'rub', 'and', 'and', 'hold', 'hold', 'a', 'a', 'dog', 'she', 'rub', 'rub', 'and', 'and', 'hold', 'hold', 'a', 'a', 'cat', 'she', 'rub', 'rub', 'and', 'and', 'hold', 'hold', 'the', 'the', 'dog', 'she', 'rub', 'rub', 'and', 'and', 'hold', 'hold', 'the', 'the', 'cat', 'she', 'hold', 'hold', 'a', 'a', 'dog', 'dog', 'and', 'and', 'cat', 'she', 'hold', 'hold', 'the', 'the', 'dog', 'dog', 'and', 'and', 'cat', 'she', 'hold', 'hold', 'a', 'a', 'cat', 'cat', 'and', 'and', 'dog', 'she', 'hold', 'hold', 'the', 'the', 'cat', 'cat', 'and', 'and', 'dog', 'she', 'rub', 'rub', 'a', 'a', 'dog', 'dog', 'and', 'and', 'cat', 'she', 'rub', 'rub', 'the', 'the', 'dog', 'dog', 'and', 'and', 'cat', 'she', 'rub', 'rub', 'a', 'a', 'cat', 'cat', 'and', 'and', 'dog', 'she', 'rub', 'rub', 'the', 'the', 'cat', 'cat', 'and', 'and', 'dog', 'she', 'can', 'can', 'hold', 'hold', 'a', 'a', 'dog', 'she', 'can', 'can', 'hold', 'hold', 'the', 'the', 'dog', 'she', 'can', 'can', 'hold', 'hold', 'a', 'a', 'cat', 'she', 'can', 'can', 'hold', 'hold', 'the', 'the', 'cat', 'she', 'can', 'can', 'rub', 'rub', 'a', 'a', 'dog', 'she', 'can', 'can', 'rub', 'rub', 'the', 'the', 'dog', 'she', 'can', 'can', 'rub', 'rub', 'a', 'a', 'cat', 'she', 'can', 'can', 'rub', 'rub', 'the', 'the', 'cat', 'she', 'can', 'can', 'hold', 'hold', 'a', 'a', 'dog', 'dog', 'and', 'and', 'cat', 'she', 'can', 'can', 'hold', 'hold', 'the', 'the', 'dog', 'dog', 'and', 'and', 'cat', 'she', 'can', 'can', 'hold', 'hold', 'a', 'a', 'cat', 'cat', 'and', 'and', 'dog', 'she', 'can', 'can', 'hold', 'hold', 'the', 'the', 'cat', 'cat', 'and', 'and', 'dog', 'she', 'can', 'can', 'hold', 'hold', 'and', 'and', 'rub', 'rub', 'a', 'a', 'dog', 'she', 'can', 'can', 'hold', 'hold', 'and', 'and', 'rub', 'rub', 'the', 'the', 'dog', 'she', 'can', 'can', 'hold', 'hold', 'and', 'and', 'rub', 'rub', 'a', 'a', 'cat', 'she', 'can', 'can', 'hold', 'hold', 'and', 'and', 'rub', 'rub', 'the', 'the', 'cat', 'she', 'can', 'can', 'rub', 'rub', 'a', 'a', 'dog', 'dog', 'and', 'and', 'cat', 'she', 'can', 'can', 'rub', 'rub', 'the', 'the', 'dog', 'dog', 'and', 'and', 'cat', 'she', 'can', 'can', 'rub', 'rub', 'a', 'a', 'cat', 'cat', 'and', 'and', 'dog', 'she', 'can', 'can', 'rub', 'rub', 'the', 'the', 'cat', 'cat', 'and', 'and', 'dog', 'she', 'can', 'can', 'rub', 'rub', 'and', 'and', 'hold', 'hold', 'a', 'a', 'cat', 'she', 'can', 'can', 'rub', 'rub', 'and', 'and', 'hold', 'hold', 'a', 'a', 'dog', 'she', 'can', 'can', 'rub', 'rub', 'and', 'and', 'hold', 'hold', 'the', 'the', 'cat', 'she', 'can', 'can', 'rub', 'rub', 'and', 'and', 'hold', 'hold', 'the', 'the', 'dog', 'he', 'hold', 'hold', 'a', 'a', 'dog', 'he', 'hold', 'hold', 'the', 'the', 'dog', 'he', 'hold', 'hold', 'a', 'a', 'cat', 'he', 'hold', 'hold', 'the', 'the', 'cat', 'he', 'rub', 'rub', 'a', 'a', 'dog', 'he', 'rub', 'rub', 'the', 'the', 'dog', 'he', 'rub', 'rub', 'a', 'a', 'cat', 'he', 'rub', 'rub', 'the', 'the', 'cat', 'he', 'hold', 'hold', 'and', 'and', 'rub', 'rub', 'a', 'a', 'dog', 'he', 'hold', 'hold', 'and', 'and', 'rub', 'rub', 'the', 'the', 'dog', 'he', 'hold', 'hold', 'and', 'and', 'rub', 'rub', 'a', 'a', 'cat', 'he', 'hold', 'hold', 'and', 'and', 'rub', 'rub', 'the', 'the', 'cat', 'he', 'rub', 'rub', 'and', 'and', 'hold', 'hold', 'a', 'a', 'dog', 'he', 'rub', 'rub', 'and', 'and', 'hold', 'hold', 'a', 'a', 'cat', 'he', 'rub', 'rub', 'and', 'and', 'hold', 'hold', 'the', 'the', 'dog', 'he', 'rub', 'rub', 'and', 'and', 'hold', 'hold', 'the', 'the', 'cat', 'he', 'hold', 'hold', 'a', 'a', 'dog', 'dog', 'and', 'and', 'cat', 'he', 'hold', 'hold', 'the', 'the', 'dog', 'dog', 'and', 'and', 'cat', 'he', 'hold', 'hold', 'a', 'a', 'cat', 'cat', 'and', 'and', 'dog', 'he', 'hold', 'hold', 'the', 'the', 'cat', 'cat', 'and', 'and', 'dog', 'he', 'rub', 'rub', 'a', 'a', 'dog', 'dog', 'and', 'and', 'cat', 'he', 'rub', 'rub', 'the', 'the', 'dog', 'dog', 'and', 'and', 'cat', 'he', 'rub', 'rub', 'a', 'a', 'cat', 'cat', 'and', 'and', 'dog', 'he', 'rub', 'rub', 'the', 'the', 'cat', 'cat', 'and', 'and', 'dog', 'he', 'can', 'can', 'hold', 'hold', 'a', 'a', 'dog', 'he', 'can', 'can', 'hold', 'hold', 'the', 'the', 'dog', 'he', 'can', 'can', 'hold', 'hold', 'a', 'a', 'cat', 'he', 'can', 'can', 'hold', 'hold', 'the', 'the', 'cat', 'he', 'can', 'can', 'rub', 'rub', 'a', 'a', 'dog', 'he', 'can', 'can', 'rub', 'rub', 'the', 'the', 'dog', 'he', 'can', 'can', 'rub', 'rub', 'a', 'a', 'cat', 'he', 'can', 'can', 'rub', 'rub', 'the', 'the', 'cat', 'he', 'can', 'can', 'hold', 'hold', 'a', 'a', 'dog', 'dog', 'and', 'and', 'cat', 'he', 'can', 'can', 'hold', 'hold', 'the', 'the', 'dog', 'dog', 'and', 'and', 'cat', 'he', 'can', 'can', 'hold', 'hold', 'a', 'a', 'cat', 'cat', 'and', 'and', 'dog', 'he', 'can', 'can', 'hold', 'hold', 'the', 'the', 'cat', 'cat', 'and', 'and', 'dog', 'he', 'can', 'can', 'hold', 'hold', 'and', 'and', 'rub', 'rub', 'a', 'a', 'dog', 'he', 'can', 'can', 'hold', 'hold', 'and', 'and', 'rub', 'rub', 'the', 'the', 'dog', 'he', 'can', 'can', 'hold', 'hold', 'and', 'and', 'rub', 'rub', 'a', 'a', 'cat', 'he', 'can', 'can', 'hold', 'hold', 'and', 'and', 'rub', 'rub', 'the', 'the', 'cat', 'he', 'can', 'can', 'rub', 'rub', 'a', 'a', 'dog', 'dog', 'and', 'and', 'cat', 'he', 'can', 'can', 'rub', 'rub', 'the', 'the', 'dog', 'dog', 'and', 'and', 'cat', 'he', 'can', 'can', 'rub', 'rub', 'a', 'a', 'cat', 'cat', 'and', 'and', 'dog', 'he', 'can', 'can', 'rub', 'rub', 'the', 'the', 'cat', 'cat', 'and', 'and', 'dog', 'he', 'can', 'can', 'rub', 'rub', 'and', 'and', 'hold', 'hold', 'a', 'a', 'cat', 'he', 'can', 'can', 'rub', 'rub', 'and', 'and', 'hold', 'hold', 'a', 'a', 'dog', 'he', 'can', 'can', 'rub', 'rub', 'and', 'and', 'hold', 'hold', 'the', 'the', 'cat', 'he', 'can', 'can', 'rub', 'rub', 'and', 'and', 'hold', 'hold', 'the', 'the', 'dog', 'he', 'and', 'and', 'I', 'I', 'hold', 'hold', 'a', 'a', 'dog', 'he', 'and', 'and', 'I', 'I', 'hold', 'hold', 'the', 'the', 'dog', 'he', 'and', 'and', 'I', 'I', 'hold', 'hold', 'a', 'a', 'cat', 'he', 'and', 'and', 'I', 'I', 'hold', 'hold', 'the', 'the', 'cat', 'he', 'and', 'and', 'I', 'I', 'rub', 'rub', 'a', 'a', 'dog', 'he', 'and', 'and', 'I', 'I', 'rub', 'rub', 'the', 'the', 'dog', 'he', 'and', 'and', 'I', 'I', 'rub', 'rub', 'a', 'a', 'cat', 'he', 'and', 'and', 'I', 'I', 'rub', 'rub', 'the', 'the', 'cat', 'he', 'and', 'and', 'I', 'I', 'can', 'can', 'hold', 'hold', 'a', 'a', 'dog', 'he', 'and', 'and', 'I', 'I', 'can', 'can', 'hold', 'hold', 'the', 'the', 'dog', 'he', 'and', 'and', 'I', 'I', 'can', 'can', 'hold', 'hold', 'a', 'a', 'cat', 'he', 'and', 'and', 'I', 'I', 'can', 'can', 'hold', 'hold', 'the', 'the', 'cat', 'he', 'and', 'and', 'I', 'I', 'can', 'can', 'rub', 'rub', 'a', 'a', 'dog', 'he', 'and', 'and', 'I', 'I', 'can', 'can', 'rub', 'rub', 'the', 'the', 'dog', 'he', 'and', 'and', 'I', 'I', 'can', 'can', 'rub', 'rub', 'a', 'a', 'cat', 'he', 'and', 'and', 'I', 'I', 'can', 'can', 'rub', 'rub', 'the', 'the', 'cat', 'she', 'and', 'and', 'I', 'I', 'hold', 'hold', 'a', 'a', 'dog', 'she', 'and', 'and', 'I', 'I', 'hold', 'hold', 'the', 'the', 'dog', 'she', 'and', 'and', 'I', 'I', 'hold', 'hold', 'a', 'a', 'cat', 'she', 'and', 'and', 'I', 'I', 'hold', 'hold', 'the', 'the', 'cat', 'she', 'and', 'and', 'I', 'I', 'rub', 'rub', 'a', 'a', 'dog', 'she', 'and', 'and', 'I', 'I', 'rub', 'rub', 'the', 'the', 'dog', 'she', 'and', 'and', 'I', 'I', 'rub', 'rub', 'a', 'a', 'cat', 'she', 'and', 'and', 'I', 'I', 'rub', 'rub', 'the', 'the', 'cat', 'she', 'and', 'and', 'I', 'I', 'can', 'can', 'hold', 'hold', 'a', 'a', 'dog', 'she', 'and', 'and', 'I', 'I', 'can', 'can', 'hold', 'hold', 'the', 'the', 'dog', 'she', 'and', 'and', 'I', 'I', 'can', 'can', 'hold', 'hold', 'a', 'a', 'cat', 'she', 'and', 'and', 'I', 'I', 'can', 'can', 'hold', 'hold', 'the', 'the', 'cat', 'she', 'and', 'and', 'I', 'I', 'can', 'can', 'rub', 'rub', 'a', 'a', 'dog', 'she', 'and', 'and', 'I', 'I', 'can', 'can', 'rub', 'rub', 'the', 'the', 'dog', 'she', 'and', 'and', 'I', 'I', 'can', 'can', 'rub', 'rub', 'a', 'a', 'cat', 'she', 'and', 'and', 'I', 'I', 'can', 'can', 'rub', 'rub', 'the', 'the', 'cat', 'she', 'and', 'and', 'he', 'he', 'hold', 'hold', 'a', 'a', 'dog', 'she', 'and', 'and', 'he', 'he', 'hold', 'hold', 'the', 'the', 'dog', 'she', 'and', 'and', 'he', 'he', 'hold', 'hold', 'a', 'a', 'cat', 'she', 'and', 'and', 'he', 'he', 'hold', 'hold', 'the', 'the', 'cat', 'she', 'and', 'and', 'he', 'he', 'rub', 'rub', 'a', 'a', 'dog', 'she', 'and', 'and', 'he', 'he', 'rub', 'rub', 'the', 'the', 'dog', 'she', 'and', 'and', 'he', 'he', 'rub', 'rub', 'a', 'a', 'cat', 'she', 'and', 'and', 'he', 'he', 'rub', 'rub', 'the', 'the', 'cat', 'she', 'and', 'and', 'he', 'he', 'can', 'can', 'hold', 'hold', 'a', 'a', 'dog', 'she', 'and', 'and', 'he', 'he', 'can', 'can', 'hold', 'hold', 'the', 'the', 'dog', 'she', 'and', 'and', 'he', 'he', 'can', 'can', 'hold', 'hold', 'a', 'a', 'cat', 'she', 'and', 'and', 'he', 'he', 'can', 'can', 'hold', 'hold', 'the', 'the', 'cat', 'she', 'and', 'and', 'he', 'he', 'can', 'can', 'rub', 'rub', 'a', 'a', 'dog', 'she', 'and', 'and', 'he', 'he', 'can', 'can', 'rub', 'rub', 'the', 'the', 'dog', 'she', 'and', 'and', 'he', 'he', 'can', 'can', 'rub', 'rub', 'a', 'a', 'cat', 'she', 'and', 'and', 'he', 'he', 'can', 'can', 'rub', 'rub', 'the', 'the', 'cat', 'he', 'and', 'and', 'she', 'she', 'hold', 'hold', 'a', 'a', 'dog', 'he', 'and', 'and', 'she', 'she', 'hold', 'hold', 'the', 'the', 'dog', 'he', 'and', 'and', 'she', 'she', 'hold', 'hold', 'a', 'a', 'cat', 'he', 'and', 'and', 'she', 'she', 'hold', 'hold', 'the', 'the', 'cat', 'he', 'and', 'and', 'she', 'she', 'rub', 'rub', 'a', 'a', 'dog', 'he', 'and', 'and', 'she', 'she', 'rub', 'rub', 'the', 'the', 'dog', 'he', 'and', 'and', 'she', 'she', 'rub', 'rub', 'a', 'a', 'cat', 'he', 'and', 'and', 'she', 'she', 'rub', 'rub', 'the', 'the', 'cat', 'he', 'and', 'and', 'she', 'she', 'can', 'can', 'hold', 'hold', 'a', 'a', 'dog', 'he', 'and', 'and', 'she', 'she', 'can', 'can', 'hold', 'hold', 'the', 'the', 'dog', 'he', 'and', 'and', 'she', 'she', 'can', 'can', 'hold', 'hold', 'a', 'a', 'cat', 'he', 'and', 'and', 'she', 'she', 'can', 'can', 'hold', 'hold', 'the', 'the', 'cat', 'he', 'and', 'and', 'she', 'she', 'can', 'can', 'rub', 'rub', 'a', 'a', 'dog', 'he', 'and', 'and', 'she', 'she', 'can', 'can', 'rub', 'rub', 'the', 'the', 'dog', 'he', 'and', 'and', 'she', 'she', 'can', 'can', 'rub', 'rub', 'a', 'a', 'cat', 'he', 'and', 'and', 'she', 'she', 'can', 'can', 'rub', 'rub', 'the', 'the', 'cat']\n",
      "['hold', 'I', 'a', 'hold', 'dog', 'a', 'hold', 'I', 'the', 'hold', 'dog', 'the', 'hold', 'I', 'a', 'hold', 'cat', 'a', 'hold', 'I', 'the', 'hold', 'cat', 'the', 'rub', 'I', 'a', 'rub', 'dog', 'a', 'rub', 'I', 'the', 'rub', 'dog', 'the', 'rub', 'I', 'a', 'rub', 'cat', 'a', 'rub', 'I', 'the', 'rub', 'cat', 'the', 'hold', 'I', 'and', 'hold', 'rub', 'and', 'a', 'rub', 'dog', 'a', 'hold', 'I', 'and', 'hold', 'rub', 'and', 'the', 'rub', 'dog', 'the', 'hold', 'I', 'and', 'hold', 'rub', 'and', 'a', 'rub', 'cat', 'a', 'hold', 'I', 'and', 'hold', 'rub', 'and', 'the', 'rub', 'cat', 'the', 'hold', 'I', 'a', 'hold', 'dog', 'a', 'and', 'dog', 'cat', 'and', 'hold', 'I', 'the', 'hold', 'dog', 'the', 'and', 'dog', 'cat', 'and', 'hold', 'I', 'a', 'hold', 'cat', 'a', 'and', 'cat', 'dog', 'and', 'hold', 'I', 'the', 'hold', 'cat', 'the', 'and', 'cat', 'dog', 'and', 'rub', 'I', 'a', 'rub', 'dog', 'a', 'and', 'dog', 'cat', 'and', 'rub', 'I', 'the', 'rub', 'dog', 'the', 'and', 'dog', 'cat', 'and', 'rub', 'I', 'a', 'rub', 'cat', 'a', 'and', 'cat', 'dog', 'and', 'rub', 'I', 'the', 'rub', 'cat', 'the', 'and', 'cat', 'dog', 'and', 'hold', 'I', 'and', 'hold', 'rub', 'and', 'a', 'rub', 'dog', 'a', 'hold', 'I', 'and', 'hold', 'rub', 'and', 'a', 'rub', 'cat', 'a', 'hold', 'I', 'and', 'hold', 'rub', 'and', 'the', 'rub', 'dog', 'the', 'hold', 'I', 'and', 'hold', 'rub', 'and', 'the', 'rub', 'cat', 'the', 'can', 'I', 'hold', 'can', 'a', 'hold', 'dog', 'a', 'can', 'I', 'hold', 'can', 'the', 'hold', 'dog', 'the', 'can', 'I', 'hold', 'can', 'a', 'hold', 'cat', 'a', 'can', 'I', 'hold', 'can', 'the', 'hold', 'cat', 'the', 'can', 'I', 'rub', 'can', 'a', 'rub', 'dog', 'a', 'can', 'I', 'rub', 'can', 'the', 'rub', 'dog', 'the', 'can', 'I', 'rub', 'can', 'a', 'rub', 'cat', 'a', 'can', 'I', 'rub', 'can', 'the', 'rub', 'cat', 'the', 'can', 'I', 'hold', 'can', 'a', 'hold', 'dog', 'a', 'and', 'dog', 'cat', 'and', 'can', 'I', 'hold', 'can', 'the', 'hold', 'dog', 'the', 'and', 'dog', 'cat', 'and', 'can', 'I', 'hold', 'can', 'a', 'hold', 'cat', 'a', 'and', 'cat', 'dog', 'and', 'can', 'I', 'hold', 'can', 'the', 'hold', 'cat', 'the', 'and', 'cat', 'dog', 'and', 'can', 'I', 'hold', 'can', 'and', 'hold', 'rub', 'and', 'a', 'rub', 'dog', 'a', 'can', 'I', 'hold', 'can', 'and', 'hold', 'rub', 'and', 'the', 'rub', 'dog', 'the', 'can', 'I', 'hold', 'can', 'and', 'hold', 'rub', 'and', 'a', 'rub', 'cat', 'a', 'can', 'I', 'hold', 'can', 'and', 'hold', 'rub', 'and', 'the', 'rub', 'cat', 'the', 'can', 'I', 'rub', 'can', 'a', 'rub', 'dog', 'a', 'and', 'dog', 'cat', 'and', 'can', 'I', 'rub', 'can', 'the', 'rub', 'dog', 'the', 'and', 'dog', 'cat', 'and', 'can', 'I', 'rub', 'can', 'a', 'rub', 'cat', 'a', 'and', 'cat', 'dog', 'and', 'can', 'I', 'rub', 'can', 'the', 'rub', 'cat', 'the', 'and', 'cat', 'dog', 'and', 'can', 'I', 'rub', 'can', 'and', 'rub', 'hold', 'and', 'a', 'hold', 'cat', 'a', 'can', 'I', 'rub', 'can', 'and', 'rub', 'hold', 'and', 'a', 'hold', 'dog', 'a', 'can', 'I', 'rub', 'can', 'and', 'rub', 'hold', 'and', 'the', 'hold', 'cat', 'the', 'can', 'I', 'rub', 'can', 'and', 'rub', 'hold', 'and', 'the', 'hold', 'dog', 'the', 'hold', 'she', 'a', 'hold', 'dog', 'a', 'hold', 'she', 'the', 'hold', 'dog', 'the', 'hold', 'she', 'a', 'hold', 'cat', 'a', 'hold', 'she', 'the', 'hold', 'cat', 'the', 'rub', 'she', 'a', 'rub', 'dog', 'a', 'rub', 'she', 'the', 'rub', 'dog', 'the', 'rub', 'she', 'a', 'rub', 'cat', 'a', 'rub', 'she', 'the', 'rub', 'cat', 'the', 'hold', 'she', 'and', 'hold', 'rub', 'and', 'a', 'rub', 'dog', 'a', 'hold', 'she', 'and', 'hold', 'rub', 'and', 'the', 'rub', 'dog', 'the', 'hold', 'she', 'and', 'hold', 'rub', 'and', 'a', 'rub', 'cat', 'a', 'hold', 'she', 'and', 'hold', 'rub', 'and', 'the', 'rub', 'cat', 'the', 'rub', 'she', 'and', 'rub', 'hold', 'and', 'a', 'hold', 'dog', 'a', 'rub', 'she', 'and', 'rub', 'hold', 'and', 'a', 'hold', 'cat', 'a', 'rub', 'she', 'and', 'rub', 'hold', 'and', 'the', 'hold', 'dog', 'the', 'rub', 'she', 'and', 'rub', 'hold', 'and', 'the', 'hold', 'cat', 'the', 'hold', 'she', 'a', 'hold', 'dog', 'a', 'and', 'dog', 'cat', 'and', 'hold', 'she', 'the', 'hold', 'dog', 'the', 'and', 'dog', 'cat', 'and', 'hold', 'she', 'a', 'hold', 'cat', 'a', 'and', 'cat', 'dog', 'and', 'hold', 'she', 'the', 'hold', 'cat', 'the', 'and', 'cat', 'dog', 'and', 'rub', 'she', 'a', 'rub', 'dog', 'a', 'and', 'dog', 'cat', 'and', 'rub', 'she', 'the', 'rub', 'dog', 'the', 'and', 'dog', 'cat', 'and', 'rub', 'she', 'a', 'rub', 'cat', 'a', 'and', 'cat', 'dog', 'and', 'rub', 'she', 'the', 'rub', 'cat', 'the', 'and', 'cat', 'dog', 'and', 'can', 'she', 'hold', 'can', 'a', 'hold', 'dog', 'a', 'can', 'she', 'hold', 'can', 'the', 'hold', 'dog', 'the', 'can', 'she', 'hold', 'can', 'a', 'hold', 'cat', 'a', 'can', 'she', 'hold', 'can', 'the', 'hold', 'cat', 'the', 'can', 'she', 'rub', 'can', 'a', 'rub', 'dog', 'a', 'can', 'she', 'rub', 'can', 'the', 'rub', 'dog', 'the', 'can', 'she', 'rub', 'can', 'a', 'rub', 'cat', 'a', 'can', 'she', 'rub', 'can', 'the', 'rub', 'cat', 'the', 'can', 'she', 'hold', 'can', 'a', 'hold', 'dog', 'a', 'and', 'dog', 'cat', 'and', 'can', 'she', 'hold', 'can', 'the', 'hold', 'dog', 'the', 'and', 'dog', 'cat', 'and', 'can', 'she', 'hold', 'can', 'a', 'hold', 'cat', 'a', 'and', 'cat', 'dog', 'and', 'can', 'she', 'hold', 'can', 'the', 'hold', 'cat', 'the', 'and', 'cat', 'dog', 'and', 'can', 'she', 'hold', 'can', 'and', 'hold', 'rub', 'and', 'a', 'rub', 'dog', 'a', 'can', 'she', 'hold', 'can', 'and', 'hold', 'rub', 'and', 'the', 'rub', 'dog', 'the', 'can', 'she', 'hold', 'can', 'and', 'hold', 'rub', 'and', 'a', 'rub', 'cat', 'a', 'can', 'she', 'hold', 'can', 'and', 'hold', 'rub', 'and', 'the', 'rub', 'cat', 'the', 'can', 'she', 'rub', 'can', 'a', 'rub', 'dog', 'a', 'and', 'dog', 'cat', 'and', 'can', 'she', 'rub', 'can', 'the', 'rub', 'dog', 'the', 'and', 'dog', 'cat', 'and', 'can', 'she', 'rub', 'can', 'a', 'rub', 'cat', 'a', 'and', 'cat', 'dog', 'and', 'can', 'she', 'rub', 'can', 'the', 'rub', 'cat', 'the', 'and', 'cat', 'dog', 'and', 'can', 'she', 'rub', 'can', 'and', 'rub', 'hold', 'and', 'a', 'hold', 'cat', 'a', 'can', 'she', 'rub', 'can', 'and', 'rub', 'hold', 'and', 'a', 'hold', 'dog', 'a', 'can', 'she', 'rub', 'can', 'and', 'rub', 'hold', 'and', 'the', 'hold', 'cat', 'the', 'can', 'she', 'rub', 'can', 'and', 'rub', 'hold', 'and', 'the', 'hold', 'dog', 'the', 'hold', 'he', 'a', 'hold', 'dog', 'a', 'hold', 'he', 'the', 'hold', 'dog', 'the', 'hold', 'he', 'a', 'hold', 'cat', 'a', 'hold', 'he', 'the', 'hold', 'cat', 'the', 'rub', 'he', 'a', 'rub', 'dog', 'a', 'rub', 'he', 'the', 'rub', 'dog', 'the', 'rub', 'he', 'a', 'rub', 'cat', 'a', 'rub', 'he', 'the', 'rub', 'cat', 'the', 'hold', 'he', 'and', 'hold', 'rub', 'and', 'a', 'rub', 'dog', 'a', 'hold', 'he', 'and', 'hold', 'rub', 'and', 'the', 'rub', 'dog', 'the', 'hold', 'he', 'and', 'hold', 'rub', 'and', 'a', 'rub', 'cat', 'a', 'hold', 'he', 'and', 'hold', 'rub', 'and', 'the', 'rub', 'cat', 'the', 'rub', 'he', 'and', 'rub', 'hold', 'and', 'a', 'hold', 'dog', 'a', 'rub', 'he', 'and', 'rub', 'hold', 'and', 'a', 'hold', 'cat', 'a', 'rub', 'he', 'and', 'rub', 'hold', 'and', 'the', 'hold', 'dog', 'the', 'rub', 'he', 'and', 'rub', 'hold', 'and', 'the', 'hold', 'cat', 'the', 'hold', 'he', 'a', 'hold', 'dog', 'a', 'and', 'dog', 'cat', 'and', 'hold', 'he', 'the', 'hold', 'dog', 'the', 'and', 'dog', 'cat', 'and', 'hold', 'he', 'a', 'hold', 'cat', 'a', 'and', 'cat', 'dog', 'and', 'hold', 'he', 'the', 'hold', 'cat', 'the', 'and', 'cat', 'dog', 'and', 'rub', 'he', 'a', 'rub', 'dog', 'a', 'and', 'dog', 'cat', 'and', 'rub', 'he', 'the', 'rub', 'dog', 'the', 'and', 'dog', 'cat', 'and', 'rub', 'he', 'a', 'rub', 'cat', 'a', 'and', 'cat', 'dog', 'and', 'rub', 'he', 'the', 'rub', 'cat', 'the', 'and', 'cat', 'dog', 'and', 'can', 'he', 'hold', 'can', 'a', 'hold', 'dog', 'a', 'can', 'he', 'hold', 'can', 'the', 'hold', 'dog', 'the', 'can', 'he', 'hold', 'can', 'a', 'hold', 'cat', 'a', 'can', 'he', 'hold', 'can', 'the', 'hold', 'cat', 'the', 'can', 'he', 'rub', 'can', 'a', 'rub', 'dog', 'a', 'can', 'he', 'rub', 'can', 'the', 'rub', 'dog', 'the', 'can', 'he', 'rub', 'can', 'a', 'rub', 'cat', 'a', 'can', 'he', 'rub', 'can', 'the', 'rub', 'cat', 'the', 'can', 'he', 'hold', 'can', 'a', 'hold', 'dog', 'a', 'and', 'dog', 'cat', 'and', 'can', 'he', 'hold', 'can', 'the', 'hold', 'dog', 'the', 'and', 'dog', 'cat', 'and', 'can', 'he', 'hold', 'can', 'a', 'hold', 'cat', 'a', 'and', 'cat', 'dog', 'and', 'can', 'he', 'hold', 'can', 'the', 'hold', 'cat', 'the', 'and', 'cat', 'dog', 'and', 'can', 'he', 'hold', 'can', 'and', 'hold', 'rub', 'and', 'a', 'rub', 'dog', 'a', 'can', 'he', 'hold', 'can', 'and', 'hold', 'rub', 'and', 'the', 'rub', 'dog', 'the', 'can', 'he', 'hold', 'can', 'and', 'hold', 'rub', 'and', 'a', 'rub', 'cat', 'a', 'can', 'he', 'hold', 'can', 'and', 'hold', 'rub', 'and', 'the', 'rub', 'cat', 'the', 'can', 'he', 'rub', 'can', 'a', 'rub', 'dog', 'a', 'and', 'dog', 'cat', 'and', 'can', 'he', 'rub', 'can', 'the', 'rub', 'dog', 'the', 'and', 'dog', 'cat', 'and', 'can', 'he', 'rub', 'can', 'a', 'rub', 'cat', 'a', 'and', 'cat', 'dog', 'and', 'can', 'he', 'rub', 'can', 'the', 'rub', 'cat', 'the', 'and', 'cat', 'dog', 'and', 'can', 'he', 'rub', 'can', 'and', 'rub', 'hold', 'and', 'a', 'hold', 'cat', 'a', 'can', 'he', 'rub', 'can', 'and', 'rub', 'hold', 'and', 'a', 'hold', 'dog', 'a', 'can', 'he', 'rub', 'can', 'and', 'rub', 'hold', 'and', 'the', 'hold', 'cat', 'the', 'can', 'he', 'rub', 'can', 'and', 'rub', 'hold', 'and', 'the', 'hold', 'dog', 'the', 'and', 'he', 'I', 'and', 'hold', 'I', 'a', 'hold', 'dog', 'a', 'and', 'he', 'I', 'and', 'hold', 'I', 'the', 'hold', 'dog', 'the', 'and', 'he', 'I', 'and', 'hold', 'I', 'a', 'hold', 'cat', 'a', 'and', 'he', 'I', 'and', 'hold', 'I', 'the', 'hold', 'cat', 'the', 'and', 'he', 'I', 'and', 'rub', 'I', 'a', 'rub', 'dog', 'a', 'and', 'he', 'I', 'and', 'rub', 'I', 'the', 'rub', 'dog', 'the', 'and', 'he', 'I', 'and', 'rub', 'I', 'a', 'rub', 'cat', 'a', 'and', 'he', 'I', 'and', 'rub', 'I', 'the', 'rub', 'cat', 'the', 'and', 'he', 'I', 'and', 'can', 'I', 'hold', 'can', 'a', 'hold', 'dog', 'a', 'and', 'he', 'I', 'and', 'can', 'I', 'hold', 'can', 'the', 'hold', 'dog', 'the', 'and', 'he', 'I', 'and', 'can', 'I', 'hold', 'can', 'a', 'hold', 'cat', 'a', 'and', 'he', 'I', 'and', 'can', 'I', 'hold', 'can', 'the', 'hold', 'cat', 'the', 'and', 'he', 'I', 'and', 'can', 'I', 'rub', 'can', 'a', 'rub', 'dog', 'a', 'and', 'he', 'I', 'and', 'can', 'I', 'rub', 'can', 'the', 'rub', 'dog', 'the', 'and', 'he', 'I', 'and', 'can', 'I', 'rub', 'can', 'a', 'rub', 'cat', 'a', 'and', 'he', 'I', 'and', 'can', 'I', 'rub', 'can', 'the', 'rub', 'cat', 'the', 'and', 'she', 'I', 'and', 'hold', 'I', 'a', 'hold', 'dog', 'a', 'and', 'she', 'I', 'and', 'hold', 'I', 'the', 'hold', 'dog', 'the', 'and', 'she', 'I', 'and', 'hold', 'I', 'a', 'hold', 'cat', 'a', 'and', 'she', 'I', 'and', 'hold', 'I', 'the', 'hold', 'cat', 'the', 'and', 'she', 'I', 'and', 'rub', 'I', 'a', 'rub', 'dog', 'a', 'and', 'she', 'I', 'and', 'rub', 'I', 'the', 'rub', 'dog', 'the', 'and', 'she', 'I', 'and', 'rub', 'I', 'a', 'rub', 'cat', 'a', 'and', 'she', 'I', 'and', 'rub', 'I', 'the', 'rub', 'cat', 'the', 'and', 'she', 'I', 'and', 'can', 'I', 'hold', 'can', 'a', 'hold', 'dog', 'a', 'and', 'she', 'I', 'and', 'can', 'I', 'hold', 'can', 'the', 'hold', 'dog', 'the', 'and', 'she', 'I', 'and', 'can', 'I', 'hold', 'can', 'a', 'hold', 'cat', 'a', 'and', 'she', 'I', 'and', 'can', 'I', 'hold', 'can', 'the', 'hold', 'cat', 'the', 'and', 'she', 'I', 'and', 'can', 'I', 'rub', 'can', 'a', 'rub', 'dog', 'a', 'and', 'she', 'I', 'and', 'can', 'I', 'rub', 'can', 'the', 'rub', 'dog', 'the', 'and', 'she', 'I', 'and', 'can', 'I', 'rub', 'can', 'a', 'rub', 'cat', 'a', 'and', 'she', 'I', 'and', 'can', 'I', 'rub', 'can', 'the', 'rub', 'cat', 'the', 'and', 'she', 'he', 'and', 'hold', 'he', 'a', 'hold', 'dog', 'a', 'and', 'she', 'he', 'and', 'hold', 'he', 'the', 'hold', 'dog', 'the', 'and', 'she', 'he', 'and', 'hold', 'he', 'a', 'hold', 'cat', 'a', 'and', 'she', 'he', 'and', 'hold', 'he', 'the', 'hold', 'cat', 'the', 'and', 'she', 'he', 'and', 'rub', 'he', 'a', 'rub', 'dog', 'a', 'and', 'she', 'he', 'and', 'rub', 'he', 'the', 'rub', 'dog', 'the', 'and', 'she', 'he', 'and', 'rub', 'he', 'a', 'rub', 'cat', 'a', 'and', 'she', 'he', 'and', 'rub', 'he', 'the', 'rub', 'cat', 'the', 'and', 'she', 'he', 'and', 'can', 'he', 'hold', 'can', 'a', 'hold', 'dog', 'a', 'and', 'she', 'he', 'and', 'can', 'he', 'hold', 'can', 'the', 'hold', 'dog', 'the', 'and', 'she', 'he', 'and', 'can', 'he', 'hold', 'can', 'a', 'hold', 'cat', 'a', 'and', 'she', 'he', 'and', 'can', 'he', 'hold', 'can', 'the', 'hold', 'cat', 'the', 'and', 'she', 'he', 'and', 'can', 'he', 'rub', 'can', 'a', 'rub', 'dog', 'a', 'and', 'she', 'he', 'and', 'can', 'he', 'rub', 'can', 'the', 'rub', 'dog', 'the', 'and', 'she', 'he', 'and', 'can', 'he', 'rub', 'can', 'a', 'rub', 'cat', 'a', 'and', 'she', 'he', 'and', 'can', 'he', 'rub', 'can', 'the', 'rub', 'cat', 'the', 'and', 'he', 'she', 'and', 'hold', 'she', 'a', 'hold', 'dog', 'a', 'and', 'he', 'she', 'and', 'hold', 'she', 'the', 'hold', 'dog', 'the', 'and', 'he', 'she', 'and', 'hold', 'she', 'a', 'hold', 'cat', 'a', 'and', 'he', 'she', 'and', 'hold', 'she', 'the', 'hold', 'cat', 'the', 'and', 'he', 'she', 'and', 'rub', 'she', 'a', 'rub', 'dog', 'a', 'and', 'he', 'she', 'and', 'rub', 'she', 'the', 'rub', 'dog', 'the', 'and', 'he', 'she', 'and', 'rub', 'she', 'a', 'rub', 'cat', 'a', 'and', 'he', 'she', 'and', 'rub', 'she', 'the', 'rub', 'cat', 'the', 'and', 'he', 'she', 'and', 'can', 'she', 'hold', 'can', 'a', 'hold', 'dog', 'a', 'and', 'he', 'she', 'and', 'can', 'she', 'hold', 'can', 'the', 'hold', 'dog', 'the', 'and', 'he', 'she', 'and', 'can', 'she', 'hold', 'can', 'a', 'hold', 'cat', 'a', 'and', 'he', 'she', 'and', 'can', 'she', 'hold', 'can', 'the', 'hold', 'cat', 'the', 'and', 'he', 'she', 'and', 'can', 'she', 'rub', 'can', 'a', 'rub', 'dog', 'a', 'and', 'he', 'she', 'and', 'can', 'she', 'rub', 'can', 'the', 'rub', 'dog', 'the', 'and', 'he', 'she', 'and', 'can', 'she', 'rub', 'can', 'a', 'rub', 'cat', 'a', 'and', 'he', 'she', 'and', 'can', 'she', 'rub', 'can', 'the', 'rub', 'cat', 'the']\n"
     ]
    }
   ],
   "source": [
    "#convert the X,Y index to word\n",
    "print([i2v[i] for i in X])\n",
    "print ([i2v[i] for i in Y])"
   ]
  },
  {
   "cell_type": "code",
   "execution_count": 2,
   "id": "151815ff",
   "metadata": {},
   "outputs": [
    {
     "data": {
      "text/plain": [
       "3"
      ]
     },
     "execution_count": 2,
     "metadata": {},
     "output_type": "execute_result"
    }
   ],
   "source": [
    "len([1,2,3])"
   ]
  },
  {
   "cell_type": "markdown",
   "id": "408bd566",
   "metadata": {},
   "source": [
    "## Define Model that will be trained to produce word vectors"
   ]
  },
  {
   "cell_type": "code",
   "execution_count": null,
   "id": "1029c79e",
   "metadata": {},
   "outputs": [],
   "source": [
    "class Word2vecModel(torch.nn.Module):\n",
    "    def __init__(self, vocab_size, embedding_size):\n",
    "        super().__init__()\n",
    "        # initialize word vectors to random numbers \n",
    "        \n",
    "        #TO DO\n",
    "        \n",
    "        # prediction function takes embedding as input, and predicts which word in vocabulary as output\n",
    "\n",
    "        #TO DO\n",
    "        \n",
    "    def forward(self, x):\n",
    "        \"\"\"\n",
    "        x: torch.tensor of shape (bsz), bsz is the batch size\n",
    "        \"\"\"\n",
    "        #TO DO\n",
    "        return logits, e"
   ]
  },
  {
   "cell_type": "markdown",
   "id": "cc3f6d07",
   "metadata": {},
   "source": [
    "#### The training function - give it the text and it does the rest"
   ]
  },
  {
   "cell_type": "code",
   "execution_count": null,
   "id": "994f2e82",
   "metadata": {},
   "outputs": [],
   "source": [
    "def train_word2vec(textlist, window, embedding_size ):\n",
    "    # Set up a model with Skip-gram (predict context with word)\n",
    "    # textlist: a list of the strings\n",
    "    \n",
    "\n",
    "    \n",
    "    # Create the training data\n",
    "    \n",
    "    # TO DO\n",
    "    \n",
    "    # Split the training data\n",
    "    \n",
    "    # TO DO\n",
    "    \n",
    "    # instantiate the network & set up the optimizer\n",
    "    \n",
    "    # TO DO\n",
    "    \n",
    "    # training loop\n",
    "    \n",
    "    # TO DO\n",
    "    return network"
   ]
  },
  {
   "cell_type": "markdown",
   "id": "d319523d",
   "metadata": {},
   "source": [
    "### Run Training and retrieve embedding"
   ]
  },
  {
   "cell_type": "code",
   "execution_count": null,
   "id": "751b4c16",
   "metadata": {},
   "outputs": [],
   "source": [
    "network = train_word2vec(lemmas)\n",
    "embedding = network.embedding"
   ]
  },
  {
   "cell_type": "markdown",
   "id": "7ac1b7b6",
   "metadata": {},
   "source": [
    "#### Evaluate some properties of the word embedding"
   ]
  },
  {
   "cell_type": "code",
   "execution_count": null,
   "id": "8aecc16c",
   "metadata": {},
   "outputs": [],
   "source": [
    "def visualize_embedding(embedding, most_frequent_from=0, most_frequent_to=40):\n",
    "    assert embedding.shape[1] == 2, \"This only supports visualizing 2-d embeddings!\"\n",
    "    \n",
    "    # TO DO\n",
    "    \n",
    "visualize_embedding(embedding.detach().numpy(), most_frequent_from=0, most_frequent_to=11)"
   ]
  }
 ],
 "metadata": {
  "kernelspec": {
   "display_name": "Python 3 (ipykernel)",
   "language": "python",
   "name": "python3"
  },
  "language_info": {
   "codemirror_mode": {
    "name": "ipython",
    "version": 3
   },
   "file_extension": ".py",
   "mimetype": "text/x-python",
   "name": "python",
   "nbconvert_exporter": "python",
   "pygments_lexer": "ipython3",
   "version": "3.10.13"
  }
 },
 "nbformat": 4,
 "nbformat_minor": 5
}
